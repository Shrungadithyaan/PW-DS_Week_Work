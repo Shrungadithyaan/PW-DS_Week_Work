{
 "cells": [
  {
   "attachments": {},
   "cell_type": "markdown",
   "metadata": {},
   "source": [
    "# Static Method\n",
    "\n",
    "### What is a static method? Static methods in Python are extremely similar to python class level methods, the difference being that a static method is bound to a class rather than the objects for that class. This means that a static method can be called without an object for that class."
   ]
  },
  {
   "cell_type": "code",
   "execution_count": 1,
   "metadata": {},
   "outputs": [],
   "source": [
    "class student:\n",
    "    def student_details(self,name,email_id,number):\n",
    "        print(name,email_id,number)"
   ]
  },
  {
   "cell_type": "code",
   "execution_count": 2,
   "metadata": {},
   "outputs": [],
   "source": [
    "pw = student()"
   ]
  },
  {
   "cell_type": "code",
   "execution_count": 3,
   "metadata": {},
   "outputs": [
    {
     "name": "stdout",
     "output_type": "stream",
     "text": [
      "adhi adhi@gmail.com 156416815\n"
     ]
    }
   ],
   "source": [
    "pw.student_details(\"adhi\",\"adhi@gmail.com\",156416815)"
   ]
  },
  {
   "cell_type": "code",
   "execution_count": 8,
   "metadata": {},
   "outputs": [],
   "source": [
    "class student1:\n",
    "    def student_details(self,name,email_id,number):\n",
    "        print(name,email_id,number)   # instent method we use self as a parameter\n",
    "                                        # class method we use cls as a parameter\n",
    "\n",
    "    @staticmethod\n",
    "    def mentor_class(list_mentor):\n",
    "        print(list_mentor) # static method we not use any default parameter  \n",
    "\n",
    "    \n",
    "    def mentor(self,mentor_list):\n",
    "        print(mentor_list)"
   ]
  },
  {
   "cell_type": "code",
   "execution_count": 9,
   "metadata": {},
   "outputs": [],
   "source": [
    "pw1 = student1()"
   ]
  },
  {
   "cell_type": "code",
   "execution_count": 11,
   "metadata": {},
   "outputs": [
    {
     "name": "stdout",
     "output_type": "stream",
     "text": [
      "['krish', 'sudhanshu']\n"
     ]
    }
   ],
   "source": [
    "pw1.mentor([\"krish\",\"sudhanshu\"])"
   ]
  },
  {
   "cell_type": "code",
   "execution_count": 14,
   "metadata": {},
   "outputs": [
    {
     "name": "stdout",
     "output_type": "stream",
     "text": [
      "['krish', 'sudhanshu']\n"
     ]
    }
   ],
   "source": [
    "pw1.mentor_class([\"krish\",\"sudhanshu\"]) # we can call funcation with object also"
   ]
  },
  {
   "cell_type": "code",
   "execution_count": 12,
   "metadata": {},
   "outputs": [
    {
     "name": "stdout",
     "output_type": "stream",
     "text": [
      "['krish', 'sudhanshu']\n"
     ]
    }
   ],
   "source": [
    "student1.mentor_class([\"krish\",\"sudhanshu\"])  # static method"
   ]
  },
  {
   "cell_type": "code",
   "execution_count": 16,
   "metadata": {},
   "outputs": [],
   "source": [
    "class student2:\n",
    "    def student_details(self,name,email_id,number):\n",
    "        print(name,email_id,number)   # instent method we use self as a parameter\n",
    "                                        \n",
    "        self.student_details                              \n",
    "\n",
    "    @staticmethod\n",
    "    def mentor_mail_id(mail_id):\n",
    "        print(mail_id)\n",
    "\n",
    "\n",
    "    @staticmethod\n",
    "    def mentor_class(list_mentor):\n",
    "        print(list_mentor) # static method we not use any default parameter  \n",
    "        student2.mentor_mail_id([\"krish@gmail.com\",\"sudhanshu@gmail.com\"]) # accessing the anthor static method \n",
    "\n",
    "    @classmethod\n",
    "    def class_name(cls,class_name):\n",
    "        cls.mentor_class([\"krish\",\"sudhanshu\"])# class method we use cls as a parameter\n",
    "\n",
    "    def mentor(self,mentor_list):\n",
    "        print(mentor_list)\n",
    "        self.mentor_class([\"krish\",\"sudhanshu\"])"
   ]
  },
  {
   "cell_type": "code",
   "execution_count": 17,
   "metadata": {},
   "outputs": [],
   "source": [
    "stu = student2()"
   ]
  },
  {
   "cell_type": "code",
   "execution_count": 18,
   "metadata": {},
   "outputs": [
    {
     "name": "stdout",
     "output_type": "stream",
     "text": [
      "adhi adhi@gmail.com 235414255\n"
     ]
    }
   ],
   "source": [
    "stu.student_details(\"adhi\",\"adhi@gmail.com\",235414255)"
   ]
  },
  {
   "cell_type": "code",
   "execution_count": 19,
   "metadata": {},
   "outputs": [
    {
     "name": "stdout",
     "output_type": "stream",
     "text": [
      "['krish@gmail.com', 'sudhanshu@gmail.com']\n"
     ]
    }
   ],
   "source": [
    "stu.mentor_mail_id([\"krish@gmail.com\",\"sudhanshu@gmail.com\"])"
   ]
  },
  {
   "cell_type": "code",
   "execution_count": 21,
   "metadata": {},
   "outputs": [
    {
     "name": "stdout",
     "output_type": "stream",
     "text": [
      "['krish', 'sudhanshu']\n",
      "['krish@gmail.com', 'sudhanshu@gmail.com']\n"
     ]
    }
   ],
   "source": [
    "stu.class_name(\"data science master\")"
   ]
  },
  {
   "cell_type": "code",
   "execution_count": 22,
   "metadata": {},
   "outputs": [
    {
     "name": "stdout",
     "output_type": "stream",
     "text": [
      "['krish', 'sudhanshu']\n",
      "['krish', 'sudhanshu']\n",
      "['krish@gmail.com', 'sudhanshu@gmail.com']\n"
     ]
    }
   ],
   "source": [
    "stu.mentor([\"krish\",\"sudhanshu\"])"
   ]
  },
  {
   "cell_type": "code",
   "execution_count": 23,
   "metadata": {},
   "outputs": [
    {
     "name": "stdout",
     "output_type": "stream",
     "text": [
      "['krish@gmail.com', 'sudhanshu@gmail.com']\n"
     ]
    }
   ],
   "source": [
    "student2.mentor_mail_id([\"krish@gmail.com\",\"sudhanshu@gmail.com\"])"
   ]
  },
  {
   "cell_type": "code",
   "execution_count": 24,
   "metadata": {},
   "outputs": [
    {
     "name": "stdout",
     "output_type": "stream",
     "text": [
      "['krish@gmail.com', 'sudhanshu@gmail.com']\n"
     ]
    }
   ],
   "source": [
    "stu.mentor_mail_id([\"krish@gmail.com\",\"sudhanshu@gmail.com\"])"
   ]
  },
  {
   "cell_type": "code",
   "execution_count": 25,
   "metadata": {},
   "outputs": [
    {
     "name": "stdout",
     "output_type": "stream",
     "text": [
      "['krish@gmail.com', 'sudhanshu@gmail.com']\n"
     ]
    }
   ],
   "source": [
    "student2.mentor_mail_id([\"krish@gmail.com\",\"sudhanshu@gmail.com\"])"
   ]
  },
  {
   "cell_type": "code",
   "execution_count": null,
   "metadata": {},
   "outputs": [],
   "source": []
  }
 ],
 "metadata": {
  "kernelspec": {
   "display_name": "Python 3",
   "language": "python",
   "name": "python3"
  },
  "language_info": {
   "codemirror_mode": {
    "name": "ipython",
    "version": 3
   },
   "file_extension": ".py",
   "mimetype": "text/x-python",
   "name": "python",
   "nbconvert_exporter": "python",
   "pygments_lexer": "ipython3",
   "version": "3.10.11"
  },
  "orig_nbformat": 4
 },
 "nbformat": 4,
 "nbformat_minor": 2
}
