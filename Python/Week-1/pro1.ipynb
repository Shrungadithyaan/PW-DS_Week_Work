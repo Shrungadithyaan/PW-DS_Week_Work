{
 "cells": [
  {
   "cell_type": "markdown",
   "id": "585edabb-0601-4768-b75f-ac670684f04c",
   "metadata": {},
   "source": [
    "print is a inbuilt funcation in python"
   ]
  },
  {
   "cell_type": "code",
   "execution_count": 1,
   "id": "d1bf9cac-72e6-42b1-bb9d-6a6a5b70fc64",
   "metadata": {},
   "outputs": [
    {
     "name": "stdout",
     "output_type": "stream",
     "text": [
      "Hello world\n"
     ]
    }
   ],
   "source": [
    "print(\"Hello world\")"
   ]
  },
  {
   "cell_type": "markdown",
   "id": "57da7d48-d734-4c6a-a429-fe75391adf71",
   "metadata": {},
   "source": [
    "variable\n",
    "\n",
    "variable is a place we hold or store the data system able process"
   ]
  },
  {
   "cell_type": "markdown",
   "id": "73b08b11-43e3-4806-810b-071503a3339e",
   "metadata": {},
   "source": [
    "Int"
   ]
  },
  {
   "cell_type": "code",
   "execution_count": 3,
   "id": "dc68cca8-4c29-469a-9344-f628dca4d003",
   "metadata": {},
   "outputs": [],
   "source": [
    "a = 10"
   ]
  },
  {
   "cell_type": "code",
   "execution_count": 4,
   "id": "36f4c271-c111-496c-a78a-7331ffcd8325",
   "metadata": {},
   "outputs": [
    {
     "data": {
      "text/plain": [
       "10"
      ]
     },
     "execution_count": 4,
     "metadata": {},
     "output_type": "execute_result"
    }
   ],
   "source": [
    "a"
   ]
  },
  {
   "cell_type": "code",
   "execution_count": 5,
   "id": "1f90d7e2-f00f-4970-ba5f-0daf4cba91ff",
   "metadata": {},
   "outputs": [
    {
     "data": {
      "text/plain": [
       "int"
      ]
     },
     "execution_count": 5,
     "metadata": {},
     "output_type": "execute_result"
    }
   ],
   "source": [
    "type(a)"
   ]
  },
  {
   "cell_type": "markdown",
   "id": "9b42df70-c798-4977-9857-ba6279dcd8eb",
   "metadata": {},
   "source": [
    "Float"
   ]
  },
  {
   "cell_type": "code",
   "execution_count": 7,
   "id": "94e96f60-b53c-4b24-aac0-a73b73132c56",
   "metadata": {},
   "outputs": [],
   "source": [
    "b = 2.2"
   ]
  },
  {
   "cell_type": "code",
   "execution_count": 8,
   "id": "e14713ec-3eef-474e-8703-7a091f2ecdac",
   "metadata": {},
   "outputs": [
    {
     "data": {
      "text/plain": [
       "2.2"
      ]
     },
     "execution_count": 8,
     "metadata": {},
     "output_type": "execute_result"
    }
   ],
   "source": [
    "b"
   ]
  },
  {
   "cell_type": "code",
   "execution_count": 9,
   "id": "86346e1c-faa4-421e-97e3-b455a175b8bf",
   "metadata": {},
   "outputs": [
    {
     "data": {
      "text/plain": [
       "float"
      ]
     },
     "execution_count": 9,
     "metadata": {},
     "output_type": "execute_result"
    }
   ],
   "source": [
    "type(b)"
   ]
  },
  {
   "cell_type": "markdown",
   "id": "85382c94-f2ee-4e99-91fa-ee19806eb678",
   "metadata": {},
   "source": [
    "String"
   ]
  },
  {
   "cell_type": "code",
   "execution_count": 10,
   "id": "9918af7c-12f1-4a95-9133-a05be243ac27",
   "metadata": {},
   "outputs": [],
   "source": [
    "name = \"Adhi\"\n"
   ]
  },
  {
   "cell_type": "code",
   "execution_count": 11,
   "id": "af7ce6c9-3c53-4aa4-81ef-28c22fd06836",
   "metadata": {},
   "outputs": [
    {
     "data": {
      "text/plain": [
       "'Adhi'"
      ]
     },
     "execution_count": 11,
     "metadata": {},
     "output_type": "execute_result"
    }
   ],
   "source": [
    "name"
   ]
  },
  {
   "cell_type": "code",
   "execution_count": 12,
   "id": "44028915-319b-4c41-a502-a3a35e12cec7",
   "metadata": {},
   "outputs": [
    {
     "data": {
      "text/plain": [
       "str"
      ]
     },
     "execution_count": 12,
     "metadata": {},
     "output_type": "execute_result"
    }
   ],
   "source": [
    "type(name)"
   ]
  },
  {
   "cell_type": "markdown",
   "id": "0ee5e4e3-45fd-406c-8384-2ceab0776646",
   "metadata": {},
   "source": [
    "Complex number\n",
    "\n",
    "j is the imaginary value\n"
   ]
  },
  {
   "cell_type": "code",
   "execution_count": 13,
   "id": "a716d5e2-68d4-4453-9087-7d29eab19bbb",
   "metadata": {},
   "outputs": [],
   "source": [
    "complex_value = 4+2j"
   ]
  },
  {
   "cell_type": "code",
   "execution_count": 14,
   "id": "694ca97e-0464-486e-a2f3-3f63d462683c",
   "metadata": {},
   "outputs": [
    {
     "data": {
      "text/plain": [
       "(4+2j)"
      ]
     },
     "execution_count": 14,
     "metadata": {},
     "output_type": "execute_result"
    }
   ],
   "source": [
    "complex_value"
   ]
  },
  {
   "cell_type": "code",
   "execution_count": 15,
   "id": "2a5b2577-ab7c-4f92-aec4-df35ab0518f1",
   "metadata": {},
   "outputs": [
    {
     "data": {
      "text/plain": [
       "complex"
      ]
     },
     "execution_count": 15,
     "metadata": {},
     "output_type": "execute_result"
    }
   ],
   "source": [
    "type(complex_value)"
   ]
  },
  {
   "cell_type": "code",
   "execution_count": 30,
   "id": "32144558-e817-4566-b946-b1fc09b234eb",
   "metadata": {},
   "outputs": [
    {
     "data": {
      "text/plain": [
       "4.0"
      ]
     },
     "execution_count": 30,
     "metadata": {},
     "output_type": "execute_result"
    }
   ],
   "source": [
    " complex_value.real"
   ]
  },
  {
   "cell_type": "code",
   "execution_count": 32,
   "id": "34c83b02-7f57-4d12-b7d0-aa1f84e4a144",
   "metadata": {},
   "outputs": [
    {
     "data": {
      "text/plain": [
       "2.0"
      ]
     },
     "execution_count": 32,
     "metadata": {},
     "output_type": "execute_result"
    }
   ],
   "source": [
    "complex_value.imag"
   ]
  },
  {
   "cell_type": "code",
   "execution_count": null,
   "id": "c5400a18-bd0c-487c-a3c3-23852a79669c",
   "metadata": {},
   "outputs": [],
   "source": []
  },
  {
   "cell_type": "markdown",
   "id": "8acf3188-252d-43ba-8e94-ac5b4964e56d",
   "metadata": {},
   "source": [
    "Boolen"
   ]
  },
  {
   "cell_type": "code",
   "execution_count": 17,
   "id": "d02bb4b4-9914-4b9d-b1ec-67014c7a22ad",
   "metadata": {},
   "outputs": [],
   "source": [
    "bool_value = True"
   ]
  },
  {
   "cell_type": "code",
   "execution_count": 18,
   "id": "f94fec49-9347-48d4-a9fd-f61fff6117c7",
   "metadata": {},
   "outputs": [
    {
     "data": {
      "text/plain": [
       "True"
      ]
     },
     "execution_count": 18,
     "metadata": {},
     "output_type": "execute_result"
    }
   ],
   "source": [
    "bool_value"
   ]
  },
  {
   "cell_type": "code",
   "execution_count": 19,
   "id": "3460b109-8eec-4488-8228-39469061095c",
   "metadata": {},
   "outputs": [],
   "source": [
    "bool_value = False"
   ]
  },
  {
   "cell_type": "code",
   "execution_count": 20,
   "id": "04879001-fcb4-4142-815d-eac0f5f2a2ef",
   "metadata": {},
   "outputs": [
    {
     "data": {
      "text/plain": [
       "False"
      ]
     },
     "execution_count": 20,
     "metadata": {},
     "output_type": "execute_result"
    }
   ],
   "source": [
    "bool_value"
   ]
  },
  {
   "cell_type": "code",
   "execution_count": 21,
   "id": "805d6f2e-4504-4d2b-b8d2-ad1ed0b51190",
   "metadata": {},
   "outputs": [
    {
     "data": {
      "text/plain": [
       "bool"
      ]
     },
     "execution_count": 21,
     "metadata": {},
     "output_type": "execute_result"
    }
   ],
   "source": [
    "type(bool_value)"
   ]
  },
  {
   "cell_type": "markdown",
   "id": "6c6246c8-dbaf-4f29-bd0f-62485c0de36a",
   "metadata": {},
   "source": [
    "True = 1\n",
    "False = 0"
   ]
  },
  {
   "cell_type": "code",
   "execution_count": 24,
   "id": "b060bc75-9a93-46b2-92ff-2915e462556d",
   "metadata": {},
   "outputs": [
    {
     "data": {
      "text/plain": [
       "1"
      ]
     },
     "execution_count": 24,
     "metadata": {},
     "output_type": "execute_result"
    }
   ],
   "source": [
    "True - False "
   ]
  },
  {
   "cell_type": "code",
   "execution_count": 25,
   "id": "9d937026-5f41-4cd0-bdf7-cce6af38d154",
   "metadata": {},
   "outputs": [
    {
     "data": {
      "text/plain": [
       "0"
      ]
     },
     "execution_count": 25,
     "metadata": {},
     "output_type": "execute_result"
    }
   ],
   "source": [
    "True * False"
   ]
  },
  {
   "cell_type": "code",
   "execution_count": 28,
   "id": "3c93bd3b-7869-4ad4-aa6b-487a89aee4e2",
   "metadata": {},
   "outputs": [
    {
     "ename": "ZeroDivisionError",
     "evalue": "division by zero",
     "output_type": "error",
     "traceback": [
      "\u001b[0;31m---------------------------------------------------------------------------\u001b[0m",
      "\u001b[0;31mZeroDivisionError\u001b[0m                         Traceback (most recent call last)",
      "Cell \u001b[0;32mIn[28], line 1\u001b[0m\n\u001b[0;32m----> 1\u001b[0m \u001b[38;5;28;43;01mTrue\u001b[39;49;00m\u001b[38;5;241;43m/\u001b[39;49m\u001b[43m \u001b[49m\u001b[38;5;28;43;01mFalse\u001b[39;49;00m\n",
      "\u001b[0;31mZeroDivisionError\u001b[0m: division by zero"
     ]
    }
   ],
   "source": [
    "True/ False"
   ]
  },
  {
   "cell_type": "markdown",
   "id": "4a9dd2ca-e2b1-4ad5-9d73-432408799c9d",
   "metadata": {},
   "source": [
    "comment"
   ]
  },
  {
   "cell_type": "code",
   "execution_count": 33,
   "id": "28e16ecd-0d68-4359-983e-794d9cf61b89",
   "metadata": {},
   "outputs": [],
   "source": [
    "# This is a comment"
   ]
  },
  {
   "cell_type": "code",
   "execution_count": 35,
   "id": "78317b81-f310-4b91-89d9-a100cb2488d5",
   "metadata": {},
   "outputs": [
    {
     "data": {
      "text/plain": [
       "10"
      ]
     },
     "execution_count": 35,
     "metadata": {},
     "output_type": "execute_result"
    }
   ],
   "source": [
    "\"\"\"\n",
    "this is multiline comment\n",
    "jgvawjhdbq\n",
    "hdgqvdgq\n",
    "\"\"\"\n",
    "a = 10\n",
    "a"
   ]
  },
  {
   "cell_type": "markdown",
   "id": "f46af174-db31-46a8-a31d-9430e3ffef90",
   "metadata": {},
   "source": [
    "nameing covention"
   ]
  },
  {
   "cell_type": "markdown",
   "id": "d9365c8a-d34f-4bf0-a51c-7bba667dbcb0",
   "metadata": {},
   "source": [
    "* A variable name must start with a letter or the underscore character.\n",
    "* A variable name cannot start with a number.\n",
    "* A variable name can only contain alpha-numeric characters and underscores (A-z, 0-9, and _ )\n",
    "* Variable names are case-sensitive (age, Age and AGE are three different variables)"
   ]
  },
  {
   "cell_type": "markdown",
   "id": "6f085756-d080-48e9-b0d0-b45b654d38f6",
   "metadata": {},
   "source": [
    "concatenation"
   ]
  },
  {
   "cell_type": "code",
   "execution_count": 41,
   "id": "ecd92169-9452-4d12-8822-2a0f1d6b7b0a",
   "metadata": {},
   "outputs": [
    {
     "data": {
      "text/plain": [
       "'hiiAdhi'"
      ]
     },
     "execution_count": 41,
     "metadata": {},
     "output_type": "execute_result"
    }
   ],
   "source": [
    "\"hii\" + \"Adhi\""
   ]
  },
  {
   "cell_type": "code",
   "execution_count": 42,
   "id": "3d905ed7-410a-4221-a679-9ecfd31e334c",
   "metadata": {},
   "outputs": [
    {
     "data": {
      "text/plain": [
       "'hii Adhi'"
      ]
     },
     "execution_count": 42,
     "metadata": {},
     "output_type": "execute_result"
    }
   ],
   "source": [
    "\"hii \" + \"Adhi\""
   ]
  },
  {
   "cell_type": "code",
   "execution_count": 43,
   "id": "810730a4-d9eb-4bbe-9574-c4c699652e69",
   "metadata": {},
   "outputs": [
    {
     "ename": "TypeError",
     "evalue": "can only concatenate str (not \"int\") to str",
     "output_type": "error",
     "traceback": [
      "\u001b[0;31m---------------------------------------------------------------------------\u001b[0m",
      "\u001b[0;31mTypeError\u001b[0m                                 Traceback (most recent call last)",
      "Cell \u001b[0;32mIn[43], line 1\u001b[0m\n\u001b[0;32m----> 1\u001b[0m \u001b[38;5;124;43m\"\u001b[39;49m\u001b[38;5;124;43mhii\u001b[39;49m\u001b[38;5;124;43m\"\u001b[39;49m\u001b[43m \u001b[49m\u001b[38;5;241;43m+\u001b[39;49m\u001b[43m \u001b[49m\u001b[38;5;241;43m10\u001b[39;49m\n",
      "\u001b[0;31mTypeError\u001b[0m: can only concatenate str (not \"int\") to str"
     ]
    }
   ],
   "source": [
    "\"hii\" + 10"
   ]
  },
  {
   "cell_type": "code",
   "execution_count": 44,
   "id": "df39348a-b347-49f4-b5d3-9ae03f744678",
   "metadata": {},
   "outputs": [
    {
     "data": {
      "text/plain": [
       "'hii 10'"
      ]
     },
     "execution_count": 44,
     "metadata": {},
     "output_type": "execute_result"
    }
   ],
   "source": [
    "\"hii \" + \"10\""
   ]
  },
  {
   "cell_type": "code",
   "execution_count": 45,
   "id": "7b965a76-566b-4d1e-a41d-f5df6cec580a",
   "metadata": {},
   "outputs": [],
   "source": [
    "a = 10"
   ]
  },
  {
   "cell_type": "code",
   "execution_count": 46,
   "id": "a23dd7fd-85c4-4a6d-aed8-450cdfbf11ed",
   "metadata": {},
   "outputs": [
    {
     "data": {
      "text/plain": [
       "'10 hii'"
      ]
     },
     "execution_count": 46,
     "metadata": {},
     "output_type": "execute_result"
    }
   ],
   "source": [
    "str(a) + \" hii\""
   ]
  },
  {
   "cell_type": "markdown",
   "id": "05eb37b6-91c6-41e1-84b6-c6b9b2db7ecf",
   "metadata": {},
   "source": [
    "User input"
   ]
  },
  {
   "cell_type": "code",
   "execution_count": 49,
   "id": "03d9af6e-4193-4991-8b1b-d53f01d6c532",
   "metadata": {},
   "outputs": [
    {
     "name": "stdin",
     "output_type": "stream",
     "text": [
      "Enter the value 10\n"
     ]
    },
    {
     "name": "stdout",
     "output_type": "stream",
     "text": [
      "The value is  10 Type of the value is  <class 'str'>\n"
     ]
    }
   ],
   "source": [
    "a = input(\"Enter the value\")\n",
    "\n",
    "print(\"The value is \",a + \" Type of the value is \", type(a))"
   ]
  },
  {
   "cell_type": "code",
   "execution_count": 53,
   "id": "1d834039-6c46-4dd6-880b-8213f5bd5193",
   "metadata": {},
   "outputs": [
    {
     "name": "stdin",
     "output_type": "stream",
     "text": [
      "Enter the value 10.2\n"
     ]
    },
    {
     "name": "stdout",
     "output_type": "stream",
     "text": [
      "The value is  10.2 Type of the value is  <class 'float'>\n"
     ]
    }
   ],
   "source": [
    "b =float(input(\"Enter the value\"))\n",
    "\n",
    "\n",
    "print(\"The value is \", str(b) + \" Type of the value is \", type(b))"
   ]
  },
  {
   "cell_type": "code",
   "execution_count": null,
   "id": "3a885046-9a6e-4de6-a47f-fd218c596a0c",
   "metadata": {},
   "outputs": [],
   "source": []
  }
 ],
 "metadata": {
  "kernelspec": {
   "display_name": "Python 3 (ipykernel)",
   "language": "python",
   "name": "python3"
  },
  "language_info": {
   "codemirror_mode": {
    "name": "ipython",
    "version": 3
   },
   "file_extension": ".py",
   "mimetype": "text/x-python",
   "name": "python",
   "nbconvert_exporter": "python",
   "pygments_lexer": "ipython3",
   "version": "3.10.8"
  }
 },
 "nbformat": 4,
 "nbformat_minor": 5
}
