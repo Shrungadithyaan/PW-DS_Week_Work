{
 "cells": [
  {
   "cell_type": "markdown",
   "id": "6bba1227-e615-43cf-834c-b9f6f0d95547",
   "metadata": {},
   "source": [
    "Mutable is a fancy way of saying that the internal state of the object is changed/mutated. So, the simplest definition is: An object whose internal state can be changed is mutable. On the other hand, immutable doesn't allow any change in the object once it has been created."
   ]
  },
  {
   "cell_type": "code",
   "execution_count": 1,
   "id": "2b646ec7-7160-48fa-8141-a7984d5c3ca1",
   "metadata": {},
   "outputs": [
    {
     "data": {
      "text/plain": [
       "'Adhi'"
      ]
     },
     "execution_count": 1,
     "metadata": {},
     "output_type": "execute_result"
    }
   ],
   "source": [
    "a = \"Adhi\"\n",
    "a"
   ]
  },
  {
   "cell_type": "code",
   "execution_count": 2,
   "id": "c1b67ef4-47f6-4fdc-9973-7ef229f53df3",
   "metadata": {},
   "outputs": [
    {
     "data": {
      "text/plain": [
       "'A'"
      ]
     },
     "execution_count": 2,
     "metadata": {},
     "output_type": "execute_result"
    }
   ],
   "source": [
    "a[0]"
   ]
  },
  {
   "cell_type": "code",
   "execution_count": 4,
   "id": "7bfc5600-cb61-4865-8a91-f5a4a20bc9ad",
   "metadata": {},
   "outputs": [
    {
     "ename": "NameError",
     "evalue": "name 'I' is not defined",
     "output_type": "error",
     "traceback": [
      "\u001b[0;31m---------------------------------------------------------------------------\u001b[0m",
      "\u001b[0;31mNameError\u001b[0m                                 Traceback (most recent call last)",
      "Cell \u001b[0;32mIn[4], line 1\u001b[0m\n\u001b[0;32m----> 1\u001b[0m a[\u001b[38;5;241m3\u001b[39m] \u001b[38;5;241m=\u001b[39m \u001b[43mI\u001b[49m   \u001b[38;5;66;03m# here we can't change the value so it is immutable\u001b[39;00m\n",
      "\u001b[0;31mNameError\u001b[0m: name 'I' is not defined"
     ]
    }
   ],
   "source": [
    " a[3] = I   # here we can't change the value so it is immutable"
   ]
  },
  {
   "cell_type": "markdown",
   "id": "86676f69-932a-4658-9ebc-03a996cad153",
   "metadata": {},
   "source": [
    "List"
   ]
  },
  {
   "cell_type": "code",
   "execution_count": 5,
   "id": "b6d923d4-a3a8-490e-a297-c46af8663055",
   "metadata": {},
   "outputs": [],
   "source": [
    "l = [1,2,3,\"ahi\",4+2j]"
   ]
  },
  {
   "cell_type": "code",
   "execution_count": 6,
   "id": "f5429c72-684d-44bd-8826-c7e5cb792243",
   "metadata": {},
   "outputs": [
    {
     "data": {
      "text/plain": [
       "[1, 2, 3, 'ahi', (4+2j)]"
      ]
     },
     "execution_count": 6,
     "metadata": {},
     "output_type": "execute_result"
    }
   ],
   "source": [
    "l"
   ]
  },
  {
   "cell_type": "code",
   "execution_count": 7,
   "id": "2362684d-b94a-43b7-b80e-ae4d10361e67",
   "metadata": {},
   "outputs": [
    {
     "data": {
      "text/plain": [
       "3"
      ]
     },
     "execution_count": 7,
     "metadata": {},
     "output_type": "execute_result"
    }
   ],
   "source": [
    "l[2]"
   ]
  },
  {
   "cell_type": "code",
   "execution_count": 8,
   "id": "cbb7b9df-2d60-4714-8a2b-6eaaccb38c7f",
   "metadata": {},
   "outputs": [],
   "source": [
    "l[2] = \"sdm\""
   ]
  },
  {
   "cell_type": "code",
   "execution_count": 9,
   "id": "fcc2b096-7bf9-46b9-a473-57596a911417",
   "metadata": {},
   "outputs": [
    {
     "data": {
      "text/plain": [
       "[1, 2, 'sdm', 'ahi', (4+2j)]"
      ]
     },
     "execution_count": 9,
     "metadata": {},
     "output_type": "execute_result"
    }
   ],
   "source": [
    "l"
   ]
  },
  {
   "cell_type": "markdown",
   "id": "f3628bf5-a6e9-47ab-bdb4-c7dad8bf4303",
   "metadata": {},
   "source": [
    "so list is a mutable"
   ]
  },
  {
   "cell_type": "code",
   "execution_count": null,
   "id": "d03702cb-acfa-49ef-a804-81bded861b95",
   "metadata": {},
   "outputs": [],
   "source": []
  }
 ],
 "metadata": {
  "kernelspec": {
   "display_name": "Python 3 (ipykernel)",
   "language": "python",
   "name": "python3"
  },
  "language_info": {
   "codemirror_mode": {
    "name": "ipython",
    "version": 3
   },
   "file_extension": ".py",
   "mimetype": "text/x-python",
   "name": "python",
   "nbconvert_exporter": "python",
   "pygments_lexer": "ipython3",
   "version": "3.10.8"
  }
 },
 "nbformat": 4,
 "nbformat_minor": 5
}
