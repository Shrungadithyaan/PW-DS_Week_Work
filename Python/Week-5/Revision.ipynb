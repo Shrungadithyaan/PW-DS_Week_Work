{
 "cells": [
  {
   "attachments": {},
   "cell_type": "markdown",
   "metadata": {},
   "source": [
    "r - read  , default mode\n",
    "\n",
    "rb - read only binary, file pointer at the begining\n",
    "\n",
    "r+ - read & write  , pointer exits at the begining of the file\n",
    "\n",
    "rb+ - read & write in binary format , pointer exits at the begining of the file\n",
    "\n",
    "w - write - it will create a new file if does not exits , , pointer exits at the begining of the file\n",
    "\n",
    "wb+ - read & write in binary format . pointer exits at the begining of the file\n",
    "\n",
    "w+ - read & write both . it over write the prives data \n",
    "\n",
    "a - it will append the value if exists otherwise it will create new file\n",
    "\n",
    "a+ -it will append the value if exists otherwise it will create new file \n",
    "\n",
    "ab -it will append the value if exists otherwise it will create new file in binary format     pointer exits at the end of the file\n",
    "\n",
    "ab+ -it will append the value if exists otherwise it will create new file in binary format     pointer exits at the end of the file"
   ]
  },
  {
   "cell_type": "code",
   "execution_count": null,
   "metadata": {},
   "outputs": [],
   "source": [
    "with open(\"rev1.txt\",\"w\"):\n",
    "    "
   ]
  }
 ],
 "metadata": {
  "language_info": {
   "name": "python"
  },
  "orig_nbformat": 4
 },
 "nbformat": 4,
 "nbformat_minor": 2
}
