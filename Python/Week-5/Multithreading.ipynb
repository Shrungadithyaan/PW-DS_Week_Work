{
 "cells": [
  {
   "attachments": {},
   "cell_type": "markdown",
   "metadata": {},
   "source": [
    "# Multithreading\n",
    "\n",
    "Multithreading refers to concurrently executing multiple threads by rapidly switching the control of the CPU between threads (called context switching). The Python Global Interpreter Lock limits one thread to run at a time even if the machine contains multiple processors.​"
   ]
  },
  {
   "cell_type": "code",
   "execution_count": 8,
   "metadata": {},
   "outputs": [],
   "source": [
    "import threading"
   ]
  },
  {
   "cell_type": "code",
   "execution_count": 9,
   "metadata": {},
   "outputs": [],
   "source": [
    "def test(id):\n",
    "    print(\"This is my test id %d\" % id)"
   ]
  },
  {
   "cell_type": "code",
   "execution_count": 10,
   "metadata": {},
   "outputs": [
    {
     "name": "stdout",
     "output_type": "stream",
     "text": [
      "This is my test id 5\n"
     ]
    }
   ],
   "source": [
    "test(5)"
   ]
  },
  {
   "cell_type": "code",
   "execution_count": 11,
   "metadata": {},
   "outputs": [
    {
     "name": "stdout",
     "output_type": "stream",
     "text": [
      "This is my test id 2\n"
     ]
    }
   ],
   "source": [
    "test(2)"
   ]
  },
  {
   "cell_type": "code",
   "execution_count": 12,
   "metadata": {},
   "outputs": [
    {
     "name": "stdout",
     "output_type": "stream",
     "text": [
      "This is my test id 6\n"
     ]
    }
   ],
   "source": [
    "test(6)"
   ]
  },
  {
   "cell_type": "code",
   "execution_count": 13,
   "metadata": {},
   "outputs": [],
   "source": [
    "thread = [threading.Thread(target=test, args=(i,)) for i in [10,1,3]]"
   ]
  },
  {
   "cell_type": "code",
   "execution_count": 14,
   "metadata": {},
   "outputs": [
    {
     "data": {
      "text/plain": [
       "[<Thread(Thread-5 (test), initial)>,\n",
       " <Thread(Thread-6 (test), initial)>,\n",
       " <Thread(Thread-7 (test), initial)>]"
      ]
     },
     "execution_count": 14,
     "metadata": {},
     "output_type": "execute_result"
    }
   ],
   "source": [
    "thread"
   ]
  },
  {
   "cell_type": "code",
   "execution_count": 15,
   "metadata": {},
   "outputs": [
    {
     "name": "stdout",
     "output_type": "stream",
     "text": [
      "This is my test id 10\n",
      "This is my test id 1\n",
      "This is my test id 3\n"
     ]
    }
   ],
   "source": [
    "for t in thread:\n",
    "    t.start()"
   ]
  },
  {
   "cell_type": "code",
   "execution_count": 16,
   "metadata": {},
   "outputs": [],
   "source": [
    "import urllib.request\n",
    "\n",
    "def file_download(url,filename):\n",
    "    urllib.request.urlretrieve(url,filename)\n"
   ]
  },
  {
   "cell_type": "code",
   "execution_count": 17,
   "metadata": {},
   "outputs": [],
   "source": [
    "file_download(\"https://raw.githubusercontent.com/itsfoss/text-files/master/agatha.txt\",\"test.txt1\")"
   ]
  },
  {
   "cell_type": "code",
   "execution_count": 18,
   "metadata": {},
   "outputs": [],
   "source": [
    "url_list = [\"https://raw.githubusercontent.com/itsfoss/text-files/master/agatha.txt\",\"https://raw.githubusercontent.com/itsfoss/text-files/master/sherlock.txt\",\"https://raw.githubusercontent.com/itsfoss/text-files/master/sample_log_file.txt\"]"
   ]
  },
  {
   "cell_type": "code",
   "execution_count": 19,
   "metadata": {},
   "outputs": [
    {
     "data": {
      "text/plain": [
       "['https://raw.githubusercontent.com/itsfoss/text-files/master/agatha.txt',\n",
       " 'https://raw.githubusercontent.com/itsfoss/text-files/master/sherlock.txt',\n",
       " 'https://raw.githubusercontent.com/itsfoss/text-files/master/sample_log_file.txt']"
      ]
     },
     "execution_count": 19,
     "metadata": {},
     "output_type": "execute_result"
    }
   ],
   "source": [
    "url_list"
   ]
  },
  {
   "cell_type": "code",
   "execution_count": 20,
   "metadata": {},
   "outputs": [],
   "source": [
    "data_file_list = ['data1.txt', 'data2.txt', 'data3.txt']"
   ]
  },
  {
   "cell_type": "code",
   "execution_count": 21,
   "metadata": {},
   "outputs": [
    {
     "data": {
      "text/plain": [
       "['data1.txt', 'data2.txt', 'data3.txt']"
      ]
     },
     "execution_count": 21,
     "metadata": {},
     "output_type": "execute_result"
    }
   ],
   "source": [
    "data_file_list"
   ]
  },
  {
   "cell_type": "code",
   "execution_count": 22,
   "metadata": {},
   "outputs": [],
   "source": [
    "thread = [threading.Thread(target=file_download, args=(url_list[i],data_file_list[i])) for i in range(len(url_list))]"
   ]
  },
  {
   "cell_type": "code",
   "execution_count": 25,
   "metadata": {},
   "outputs": [],
   "source": [
    "for t in thread:\n",
    "    t.start()"
   ]
  },
  {
   "cell_type": "code",
   "execution_count": 26,
   "metadata": {},
   "outputs": [
    {
     "data": {
      "text/plain": [
       "[<Thread(Thread-8 (file_download), stopped 17248)>,\n",
       " <Thread(Thread-9 (file_download), stopped 6120)>,\n",
       " <Thread(Thread-10 (file_download), stopped 9180)>]"
      ]
     },
     "execution_count": 26,
     "metadata": {},
     "output_type": "execute_result"
    }
   ],
   "source": [
    "thread"
   ]
  },
  {
   "cell_type": "code",
   "execution_count": 27,
   "metadata": {},
   "outputs": [],
   "source": [
    "import time"
   ]
  },
  {
   "cell_type": "code",
   "execution_count": 28,
   "metadata": {},
   "outputs": [],
   "source": [
    "def test2(x):\n",
    "    for i in range(10):\n",
    "        print(\"test1 print the value of x %d and print the value of i %d\"%(x,i))"
   ]
  },
  {
   "cell_type": "code",
   "execution_count": 29,
   "metadata": {},
   "outputs": [
    {
     "name": "stdout",
     "output_type": "stream",
     "text": [
      "test1 print the value of x 10 and print the value of i 0\n",
      "test1 print the value of x 10 and print the value of i 1\n",
      "test1 print the value of x 10 and print the value of i 2\n",
      "test1 print the value of x 10 and print the value of i 3\n",
      "test1 print the value of x 10 and print the value of i 4\n",
      "test1 print the value of x 10 and print the value of i 5\n",
      "test1 print the value of x 10 and print the value of i 6\n",
      "test1 print the value of x 10 and print the value of i 7\n",
      "test1 print the value of x 10 and print the value of i 8\n",
      "test1 print the value of x 10 and print the value of i 9\n"
     ]
    }
   ],
   "source": [
    "test2(10)"
   ]
  },
  {
   "cell_type": "code",
   "execution_count": 30,
   "metadata": {},
   "outputs": [],
   "source": [
    "def test3(x):\n",
    "    for i in range(10):\n",
    "        print(\"test1 print the value of x %d and print the value of i %d\"%(x,i))\n",
    "        time.sleep(1)"
   ]
  },
  {
   "cell_type": "code",
   "execution_count": 31,
   "metadata": {},
   "outputs": [
    {
     "name": "stdout",
     "output_type": "stream",
     "text": [
      "test1 print the value of x 10 and print the value of i 0\n",
      "test1 print the value of x 10 and print the value of i 1\n",
      "test1 print the value of x 10 and print the value of i 2\n",
      "test1 print the value of x 10 and print the value of i 3\n",
      "test1 print the value of x 10 and print the value of i 4\n",
      "test1 print the value of x 10 and print the value of i 5\n",
      "test1 print the value of x 10 and print the value of i 6\n",
      "test1 print the value of x 10 and print the value of i 7\n",
      "test1 print the value of x 10 and print the value of i 8\n",
      "test1 print the value of x 10 and print the value of i 9\n"
     ]
    }
   ],
   "source": [
    "test3(10)"
   ]
  },
  {
   "cell_type": "code",
   "execution_count": 32,
   "metadata": {},
   "outputs": [],
   "source": [
    "def test4(x):\n",
    "    for i in range(10):\n",
    "        print(\"test1 print the value of x %d and print the value of i %d\"%(x,i))\n",
    "        time.sleep(1)"
   ]
  },
  {
   "cell_type": "code",
   "execution_count": 33,
   "metadata": {},
   "outputs": [],
   "source": [
    "thread2 = [threading.Thread(target=test4,args=(i,))for i in [100,50,20,30]]"
   ]
  },
  {
   "cell_type": "code",
   "execution_count": 34,
   "metadata": {},
   "outputs": [
    {
     "name": "stdout",
     "output_type": "stream",
     "text": [
      "test1 print the value of x 100 and print the value of i 0\n",
      "test1 print the value of x 50 and print the value of i 0\n",
      "test1 print the value of x 20 and print the value of i 0\n",
      "test1 print the value of x 30 and print the value of i 0\n"
     ]
    },
    {
     "name": "stdout",
     "output_type": "stream",
     "text": [
      "test1 print the value of x 20 and print the value of i 1\n",
      "test1 print the value of x 50 and print the value of i 1\n",
      "test1 print the value of x 100 and print the value of i 1\n",
      "test1 print the value of x 30 and print the value of i 1\n",
      "test1 print the value of x 100 and print the value of i 2test1 print the value of x 30 and print the value of i 2\n",
      "test1 print the value of x 50 and print the value of i 2\n",
      "test1 print the value of x 20 and print the value of i 2\n",
      "\n",
      "test1 print the value of x 100 and print the value of i 3test1 print the value of x 20 and print the value of i 3\n",
      "\n",
      "test1 print the value of x 30 and print the value of i 3\n",
      "test1 print the value of x 50 and print the value of i 3\n",
      "test1 print the value of x 50 and print the value of i 4\n",
      "test1 print the value of x 100 and print the value of i 4\n",
      "test1 print the value of x 20 and print the value of i 4\n",
      "test1 print the value of x 30 and print the value of i 4\n",
      "test1 print the value of x 30 and print the value of i 5test1 print the value of x 20 and print the value of i 5\n",
      "test1 print the value of x 100 and print the value of i 5\n",
      "test1 print the value of x 50 and print the value of i 5\n",
      "\n",
      "test1 print the value of x 30 and print the value of i 6test1 print the value of x 100 and print the value of i 6\n",
      "\n",
      "test1 print the value of x 50 and print the value of i 6\n",
      "test1 print the value of x 20 and print the value of i 6\n",
      "test1 print the value of x 20 and print the value of i 7\n",
      "test1 print the value of x 50 and print the value of i 7\n",
      "test1 print the value of x 30 and print the value of i 7\n",
      "test1 print the value of x 100 and print the value of i 7\n",
      "test1 print the value of x 30 and print the value of i 8\n",
      "test1 print the value of x 50 and print the value of i 8\n",
      "test1 print the value of x 20 and print the value of i 8\n",
      "test1 print the value of x 100 and print the value of i 8\n",
      "test1 print the value of x 20 and print the value of i 9\n",
      "test1 print the value of x 50 and print the value of i 9\n",
      "test1 print the value of x 30 and print the value of i 9\n",
      "test1 print the value of x 100 and print the value of i 9\n"
     ]
    }
   ],
   "source": [
    "for t in thread2:\n",
    "    t.start()"
   ]
  },
  {
   "cell_type": "code",
   "execution_count": 36,
   "metadata": {},
   "outputs": [],
   "source": [
    "def test5(x):\n",
    "    for i in range(10):\n",
    "        print(\"test1 print the value of x %d and print the value of i %d\"%(x,i))\n",
    "        # time.sleep(1)"
   ]
  },
  {
   "cell_type": "code",
   "execution_count": 37,
   "metadata": {},
   "outputs": [],
   "source": [
    "thread3 = [threading.Thread(target=test5,args=(i,))for i in [100,50,20,30]]"
   ]
  },
  {
   "cell_type": "code",
   "execution_count": 38,
   "metadata": {},
   "outputs": [
    {
     "name": "stdout",
     "output_type": "stream",
     "text": [
      "test1 print the value of x 100 and print the value of i 0\n",
      "test1 print the value of x 100 and print the value of i 1\n",
      "test1 print the value of x 100 and print the value of i 2\n",
      "test1 print the value of x 100 and print the value of i 3\n",
      "test1 print the value of x 100 and print the value of i 4\n",
      "test1 print the value of x 100 and print the value of i 5\n",
      "test1 print the value of x 100 and print the value of i 6\n",
      "test1 print the value of x 100 and print the value of i 7\n",
      "test1 print the value of x 100 and print the value of i 8\n",
      "test1 print the value of x 100 and print the value of i 9\n",
      "test1 print the value of x 50 and print the value of i 0\n",
      "test1 print the value of x 50 and print the value of i 1\n",
      "test1 print the value of x 50 and print the value of i 2\n",
      "test1 print the value of x 50 and print the value of i 3\n",
      "test1 print the value of x 50 and print the value of i 4\n",
      "test1 print the value of x 50 and print the value of i 5\n",
      "test1 print the value of x 50 and print the value of i 6\n",
      "test1 print the value of x 50 and print the value of i 7\n",
      "test1 print the value of x 50 and print the value of i 8\n",
      "test1 print the value of x 50 and print the value of i 9\n",
      "test1 print the value of x 20 and print the value of i 0\n",
      "test1 print the value of x 20 and print the value of i 1\n",
      "test1 print the value of x 20 and print the value of i 2\n",
      "test1 print the value of x 20 and print the value of i 3\n",
      "test1 print the value of x 20 and print the value of i 4\n",
      "test1 print the value of x 20 and print the value of i 5\n",
      "test1 print the value of x 20 and print the value of i 6\n",
      "test1 print the value of x 20 and print the value of i 7\n",
      "test1 print the value of x 20 and print the value of i 8\n",
      "test1 print the value of x 20 and print the value of i 9\n",
      "test1 print the value of x 30 and print the value of i 0\n",
      "test1 print the value of x 30 and print the value of i 1\n",
      "test1 print the value of x 30 and print the value of i 2\n",
      "test1 print the value of x 30 and print the value of i 3\n",
      "test1 print the value of x 30 and print the value of i 4\n",
      "test1 print the value of x 30 and print the value of i 5\n",
      "test1 print the value of x 30 and print the value of i 6\n",
      "test1 print the value of x 30 and print the value of i 7\n",
      "test1 print the value of x 30 and print the value of i 8\n",
      "test1 print the value of x 30 and print the value of i 9\n"
     ]
    }
   ],
   "source": [
    "for t in thread3:\n",
    "    t.start()"
   ]
  },
  {
   "cell_type": "code",
   "execution_count": 44,
   "metadata": {},
   "outputs": [],
   "source": [
    "shared_var = 0\n",
    "lock_var = threading.Lock()\n",
    "def test3(x):\n",
    "    global shared_var\n",
    "    with lock_var:\n",
    "        shared_var = shared_var + 1\n",
    "        print(\"value of a %d and value of shread_var %d\" %(x, shared_var))\n",
    "        time.sleep(1)\n",
    "\n",
    "\n"
   ]
  },
  {
   "cell_type": "code",
   "execution_count": 42,
   "metadata": {},
   "outputs": [
    {
     "name": "stdout",
     "output_type": "stream",
     "text": [
      "value of a 5 and value of shread_var 1\n"
     ]
    }
   ],
   "source": [
    "test3(5)"
   ]
  },
  {
   "cell_type": "code",
   "execution_count": 43,
   "metadata": {},
   "outputs": [
    {
     "name": "stdout",
     "output_type": "stream",
     "text": [
      "value of a 3 and value of shread_var 2\n"
     ]
    }
   ],
   "source": [
    "test3(3)"
   ]
  },
  {
   "cell_type": "code",
   "execution_count": 46,
   "metadata": {},
   "outputs": [
    {
     "name": "stdout",
     "output_type": "stream",
     "text": [
      "value of a 1 and value of shread_var 1\n"
     ]
    },
    {
     "name": "stdout",
     "output_type": "stream",
     "text": [
      "value of a 2 and value of shread_var 2\n",
      "value of a 3 and value of shread_var 3\n",
      "value of a 4 and value of shread_var 4\n",
      "value of a 5 and value of shread_var 5\n"
     ]
    }
   ],
   "source": [
    "\n",
    "shared_var = 0\n",
    "lock_var = threading.Lock()\n",
    "def test3(x):\n",
    "    global shared_var\n",
    "    with lock_var:\n",
    "        shared_var = shared_var + 1\n",
    "        print(\"value of a %d and value of shread_var %d\" %(x, shared_var))\n",
    "        time.sleep(1)\n",
    "\n",
    "\n",
    "\n",
    "thread4 =[threading.Thread(target=test3, args=(i,)) for i in [1,2,3,4,5] ]\n",
    "\n",
    "for t in thread4:\n",
    "    t.start()"
   ]
  },
  {
   "cell_type": "code",
   "execution_count": null,
   "metadata": {},
   "outputs": [],
   "source": []
  }
 ],
 "metadata": {
  "kernelspec": {
   "display_name": "Python 3",
   "language": "python",
   "name": "python3"
  },
  "language_info": {
   "codemirror_mode": {
    "name": "ipython",
    "version": 3
   },
   "file_extension": ".py",
   "mimetype": "text/x-python",
   "name": "python",
   "nbconvert_exporter": "python",
   "pygments_lexer": "ipython3",
   "version": "3.10.11"
  },
  "orig_nbformat": 4
 },
 "nbformat": 4,
 "nbformat_minor": 2
}
