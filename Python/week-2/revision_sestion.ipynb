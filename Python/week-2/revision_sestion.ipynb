{
 "cells": [
  {
   "cell_type": "code",
   "execution_count": 1,
   "metadata": {},
   "outputs": [
    {
     "name": "stdout",
     "output_type": "stream",
     "text": [
      "4 256\n"
     ]
    }
   ],
   "source": [
    "x = 4\n",
    "cube = x ** 4\n",
    "print(x,cube)"
   ]
  },
  {
   "cell_type": "code",
   "execution_count": 3,
   "metadata": {},
   "outputs": [
    {
     "name": "stdout",
     "output_type": "stream",
     "text": [
      "Total price Rs 2545\n",
      "Total price Rs 70\n"
     ]
    }
   ],
   "source": [
    "# Explicit converstion \n",
    "\n",
    "icecream = '25'\n",
    "brownie = \"45\"\n",
    "price = icecream + brownie\n",
    "print(\"Total price Rs \"+ price)\n",
    "price = int(icecream) + int(brownie)\n",
    "print(\"Total price Rs \"+ str(price))"
   ]
  },
  {
   "cell_type": "code",
   "execution_count": 4,
   "metadata": {},
   "outputs": [
    {
     "name": "stdout",
     "output_type": "stream",
     "text": [
      "30.0\n",
      "<class 'float'>\n"
     ]
    }
   ],
   "source": [
    "#implicit conversion also called as coercion\n",
    "n = 10\n",
    "m = 20.0\n",
    "sum = n+m\n",
    "print(sum)\n",
    "print(type(sum))\n",
    "\n"
   ]
  },
  {
   "cell_type": "code",
   "execution_count": 5,
   "metadata": {},
   "outputs": [
    {
     "ename": "SyntaxError",
     "evalue": "closing parenthesis ']' does not match opening parenthesis '(' (1742968507.py, line 3)",
     "output_type": "error",
     "traceback": [
      "\u001b[1;36m  Input \u001b[1;32mIn [5]\u001b[1;36m\u001b[0m\n\u001b[1;33m    (10+20]\u001b[0m\n\u001b[1;37m          ^\u001b[0m\n\u001b[1;31mSyntaxError\u001b[0m\u001b[1;31m:\u001b[0m closing parenthesis ']' does not match opening parenthesis '('\n"
     ]
    }
   ],
   "source": [
    "# Syntax Error\n",
    "\n",
    "(10+20]"
   ]
  },
  {
   "cell_type": "code",
   "execution_count": 6,
   "metadata": {},
   "outputs": [
    {
     "data": {
      "text/plain": [
       "16.0"
      ]
     },
     "execution_count": 6,
     "metadata": {},
     "output_type": "execute_result"
    }
   ],
   "source": [
    "# LOgical error\n",
    "\n",
    "10+12/2"
   ]
  },
  {
   "cell_type": "code",
   "execution_count": 7,
   "metadata": {},
   "outputs": [
    {
     "data": {
      "text/plain": [
       "11.0"
      ]
     },
     "execution_count": 7,
     "metadata": {},
     "output_type": "execute_result"
    }
   ],
   "source": [
    "(10+12)/2"
   ]
  },
  {
   "cell_type": "code",
   "execution_count": 13,
   "metadata": {},
   "outputs": [
    {
     "ename": "TypeError",
     "evalue": "'type' object is not subscriptable",
     "output_type": "error",
     "traceback": [
      "\u001b[1;31m---------------------------------------------------------------------------\u001b[0m",
      "\u001b[1;31mTypeError\u001b[0m                                 Traceback (most recent call last)",
      "\u001b[1;32me:\\Data_Science\\PW\\PW-DS_week_work\\Python\\week-2\\revision_sestion.ipynb Cell 7\u001b[0m in \u001b[0;36m<cell line: 4>\u001b[1;34m()\u001b[0m\n\u001b[0;32m      <a href='vscode-notebook-cell:/e%3A/Data_Science/PW/PW-DS_week_work/Python/week-2/revision_sestion.ipynb#W6sZmlsZQ%3D%3D?line=0'>1</a>\u001b[0m \u001b[39m# Runtime Error\u001b[39;00m\n\u001b[0;32m      <a href='vscode-notebook-cell:/e%3A/Data_Science/PW/PW-DS_week_work/Python/week-2/revision_sestion.ipynb#W6sZmlsZQ%3D%3D?line=2'>3</a>\u001b[0m n\u001b[39m=\u001b[39m\u001b[39m10\u001b[39m\n\u001b[1;32m----> <a href='vscode-notebook-cell:/e%3A/Data_Science/PW/PW-DS_week_work/Python/week-2/revision_sestion.ipynb#W6sZmlsZQ%3D%3D?line=3'>4</a>\u001b[0m m \u001b[39m=\u001b[39m \u001b[39mint\u001b[39m(\u001b[39mint\u001b[39;49m[\u001b[39minput\u001b[39;49m(\u001b[39m\"\u001b[39;49m\u001b[39m m =\u001b[39;49m\u001b[39m\"\u001b[39;49m)])\n\u001b[0;32m      <a href='vscode-notebook-cell:/e%3A/Data_Science/PW/PW-DS_week_work/Python/week-2/revision_sestion.ipynb#W6sZmlsZQ%3D%3D?line=5'>6</a>\u001b[0m \u001b[39mprint\u001b[39m(n\u001b[39m/\u001b[39mm)\n",
      "\u001b[1;31mTypeError\u001b[0m: 'type' object is not subscriptable"
     ]
    }
   ],
   "source": [
    "# Runtime Error\n",
    "\n",
    "n=10\n",
    "m = int(int[input(\" m =\")])\n",
    "\n",
    "print(n/m)"
   ]
  },
  {
   "cell_type": "code",
   "execution_count": 14,
   "metadata": {},
   "outputs": [
    {
     "name": "stdout",
     "output_type": "stream",
     "text": [
      "2 3 "
     ]
    }
   ],
   "source": [
    "n = int(input(\"Enter a number for computing the factor\"))\n",
    "# print(1,end=' ')\n",
    "factor = 2\n",
    "while factor <= n/2:\n",
    "    if n % factor == 0:\n",
    "        print(factor,end=' ')\n",
    "        factor += 1\n",
    "#print(n,end=' ')"
   ]
  },
  {
   "cell_type": "code",
   "execution_count": null,
   "metadata": {},
   "outputs": [],
   "source": []
  }
 ],
 "metadata": {
  "kernelspec": {
   "display_name": "Python 3",
   "language": "python",
   "name": "python3"
  },
  "language_info": {
   "codemirror_mode": {
    "name": "ipython",
    "version": 3
   },
   "file_extension": ".py",
   "mimetype": "text/x-python",
   "name": "python",
   "nbconvert_exporter": "python",
   "pygments_lexer": "ipython3",
   "version": "3.10.11"
  },
  "orig_nbformat": 4
 },
 "nbformat": 4,
 "nbformat_minor": 2
}
