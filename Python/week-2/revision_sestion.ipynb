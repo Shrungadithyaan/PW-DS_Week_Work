{
 "cells": [
  {
   "cell_type": "code",
   "execution_count": 1,
   "metadata": {},
   "outputs": [
    {
     "name": "stdout",
     "output_type": "stream",
     "text": [
      "4 256\n"
     ]
    }
   ],
   "source": [
    "x = 4\n",
    "cube = x ** 4\n",
    "print(x,cube)"
   ]
  },
  {
   "cell_type": "code",
   "execution_count": 5,
   "metadata": {},
   "outputs": [
    {
     "name": "stdout",
     "output_type": "stream",
     "text": [
      "Total price Rs 2545\n",
      "Total price Rs 70\n"
     ]
    }
   ],
   "source": [
    "# Explicit converstion also called type casting\n",
    "\n",
    "icecream = '25'\n",
    "brownie = \"45\"\n",
    "price = icecream + brownie\n",
    "print(\"Total price Rs \"+ price)\n",
    "price = int(icecream) + int(brownie)\n",
    "print(\"Total price Rs \"+ str(price))"
   ]
  },
  {
   "cell_type": "code",
   "execution_count": 4,
   "metadata": {},
   "outputs": [
    {
     "name": "stdout",
     "output_type": "stream",
     "text": [
      "30.0\n",
      "<class 'float'>\n"
     ]
    }
   ],
   "source": [
    "#implicit conversion also called as coercion\n",
    "n = 10\n",
    "m = 20.0\n",
    "sum = n+m\n",
    "print(sum)\n",
    "print(type(sum))\n",
    "\n"
   ]
  },
  {
   "cell_type": "code",
   "execution_count": 5,
   "metadata": {},
   "outputs": [
    {
     "ename": "SyntaxError",
     "evalue": "closing parenthesis ']' does not match opening parenthesis '(' (1742968507.py, line 3)",
     "output_type": "error",
     "traceback": [
      "\u001b[1;36m  Input \u001b[1;32mIn [5]\u001b[1;36m\u001b[0m\n\u001b[1;33m    (10+20]\u001b[0m\n\u001b[1;37m          ^\u001b[0m\n\u001b[1;31mSyntaxError\u001b[0m\u001b[1;31m:\u001b[0m closing parenthesis ']' does not match opening parenthesis '('\n"
     ]
    }
   ],
   "source": [
    "# Syntax Error\n",
    "\n",
    "(10+20]"
   ]
  },
  {
   "cell_type": "code",
   "execution_count": 6,
   "metadata": {},
   "outputs": [
    {
     "data": {
      "text/plain": [
       "16.0"
      ]
     },
     "execution_count": 6,
     "metadata": {},
     "output_type": "execute_result"
    }
   ],
   "source": [
    "# LOgical error\n",
    "\n",
    "10+12/2"
   ]
  },
  {
   "cell_type": "code",
   "execution_count": 7,
   "metadata": {},
   "outputs": [
    {
     "data": {
      "text/plain": [
       "11.0"
      ]
     },
     "execution_count": 7,
     "metadata": {},
     "output_type": "execute_result"
    }
   ],
   "source": [
    "(10+12)/2"
   ]
  },
  {
   "cell_type": "code",
   "execution_count": 13,
   "metadata": {},
   "outputs": [
    {
     "ename": "TypeError",
     "evalue": "'type' object is not subscriptable",
     "output_type": "error",
     "traceback": [
      "\u001b[1;31m---------------------------------------------------------------------------\u001b[0m",
      "\u001b[1;31mTypeError\u001b[0m                                 Traceback (most recent call last)",
      "\u001b[1;32me:\\Data_Science\\PW\\PW-DS_week_work\\Python\\week-2\\revision_sestion.ipynb Cell 7\u001b[0m in \u001b[0;36m<cell line: 4>\u001b[1;34m()\u001b[0m\n\u001b[0;32m      <a href='vscode-notebook-cell:/e%3A/Data_Science/PW/PW-DS_week_work/Python/week-2/revision_sestion.ipynb#W6sZmlsZQ%3D%3D?line=0'>1</a>\u001b[0m \u001b[39m# Runtime Error\u001b[39;00m\n\u001b[0;32m      <a href='vscode-notebook-cell:/e%3A/Data_Science/PW/PW-DS_week_work/Python/week-2/revision_sestion.ipynb#W6sZmlsZQ%3D%3D?line=2'>3</a>\u001b[0m n\u001b[39m=\u001b[39m\u001b[39m10\u001b[39m\n\u001b[1;32m----> <a href='vscode-notebook-cell:/e%3A/Data_Science/PW/PW-DS_week_work/Python/week-2/revision_sestion.ipynb#W6sZmlsZQ%3D%3D?line=3'>4</a>\u001b[0m m \u001b[39m=\u001b[39m \u001b[39mint\u001b[39m(\u001b[39mint\u001b[39;49m[\u001b[39minput\u001b[39;49m(\u001b[39m\"\u001b[39;49m\u001b[39m m =\u001b[39;49m\u001b[39m\"\u001b[39;49m)])\n\u001b[0;32m      <a href='vscode-notebook-cell:/e%3A/Data_Science/PW/PW-DS_week_work/Python/week-2/revision_sestion.ipynb#W6sZmlsZQ%3D%3D?line=5'>6</a>\u001b[0m \u001b[39mprint\u001b[39m(n\u001b[39m/\u001b[39mm)\n",
      "\u001b[1;31mTypeError\u001b[0m: 'type' object is not subscriptable"
     ]
    }
   ],
   "source": [
    "# Runtime Error\n",
    "\n",
    "n=10\n",
    "m = int(int[input(\" m =\")])\n",
    "\n",
    "print(n/m)"
   ]
  },
  {
   "cell_type": "code",
   "execution_count": 14,
   "metadata": {},
   "outputs": [
    {
     "name": "stdout",
     "output_type": "stream",
     "text": [
      "2 3 "
     ]
    }
   ],
   "source": [
    "n = int(input(\"Enter a number for computing the factor\"))\n",
    "# print(1,end=' ')\n",
    "factor = 2\n",
    "while factor <= n/2:\n",
    "    if n % factor == 0:\n",
    "        print(factor,end=' ')\n",
    "        factor += 1\n",
    "#print(n,end=' ')"
   ]
  },
  {
   "cell_type": "code",
   "execution_count": 1,
   "metadata": {},
   "outputs": [
    {
     "name": "stdout",
     "output_type": "stream",
     "text": [
      "10\n"
     ]
    }
   ],
   "source": [
    "x = 10\n",
    "x + 20\n",
    "print(x)"
   ]
  },
  {
   "cell_type": "code",
   "execution_count": 2,
   "metadata": {},
   "outputs": [
    {
     "name": "stdout",
     "output_type": "stream",
     "text": [
      "4 64\n"
     ]
    }
   ],
   "source": [
    "x = 4\n",
    "cube = x**3\n",
    "print(x,cube)"
   ]
  },
  {
   "cell_type": "code",
   "execution_count": 3,
   "metadata": {},
   "outputs": [
    {
     "name": "stdout",
     "output_type": "stream",
     "text": [
      "10 1000\n"
     ]
    }
   ],
   "source": [
    "x = int(input(\"Enter the number:\"))\n",
    "cube = x ** 3\n",
    "print(x, cube)"
   ]
  },
  {
   "cell_type": "code",
   "execution_count": 4,
   "metadata": {},
   "outputs": [
    {
     "name": "stdout",
     "output_type": "stream",
     "text": [
      "30\n",
      "<class 'int'>\n",
      "13.0\n",
      "<class 'float'>\n"
     ]
    }
   ],
   "source": [
    "# Explicit type conversion\n",
    "\n",
    "n= 10\n",
    "m=20\n",
    "sum = n + m\n",
    "print(sum)\n",
    "print(type(sum))\n",
    "sum1 = float(n+3)\n",
    "print(sum1)\n",
    "print(type(sum1))"
   ]
  },
  {
   "cell_type": "code",
   "execution_count": 6,
   "metadata": {},
   "outputs": [
    {
     "name": "stdout",
     "output_type": "stream",
     "text": [
      "Total price Rs 2545\n",
      "Total price Rs 70\n"
     ]
    }
   ],
   "source": [
    "# Explicit converstion also called type casting\n",
    "\n",
    "icecream = '25'\n",
    "brownie = \"45\"\n",
    "price = icecream + brownie\n",
    "print(\"Total price Rs \"+ price)\n",
    "price = int(icecream) + int(brownie)\n",
    "print(\"Total price Rs \"+ str(price))"
   ]
  },
  {
   "cell_type": "code",
   "execution_count": 7,
   "metadata": {},
   "outputs": [
    {
     "name": "stdout",
     "output_type": "stream",
     "text": [
      "30.0\n",
      "<class 'float'>\n"
     ]
    }
   ],
   "source": [
    "#implicit conversion also called as coercion\n",
    "n = 10\n",
    "m = 20.0\n",
    "sum = n+m\n",
    "print(sum)\n",
    "print(type(sum))\n",
    "\n"
   ]
  },
  {
   "cell_type": "code",
   "execution_count": 11,
   "metadata": {},
   "outputs": [
    {
     "ename": "SyntaxError",
     "evalue": "closing parenthesis ']' does not match opening parenthesis '(' (50890243.py, line 2)",
     "output_type": "error",
     "traceback": [
      "\u001b[1;36m  Input \u001b[1;32mIn [11]\u001b[1;36m\u001b[0m\n\u001b[1;33m    (10+2]\u001b[0m\n\u001b[1;37m         ^\u001b[0m\n\u001b[1;31mSyntaxError\u001b[0m\u001b[1;31m:\u001b[0m closing parenthesis ']' does not match opening parenthesis '('\n"
     ]
    }
   ],
   "source": [
    "# Syntax error\n",
    "(10+2]"
   ]
  },
  {
   "cell_type": "code",
   "execution_count": 12,
   "metadata": {},
   "outputs": [
    {
     "data": {
      "text/plain": [
       "16.0"
      ]
     },
     "execution_count": 12,
     "metadata": {},
     "output_type": "execute_result"
    }
   ],
   "source": [
    "# Logical error\n",
    "10+12/2"
   ]
  },
  {
   "cell_type": "code",
   "execution_count": 14,
   "metadata": {},
   "outputs": [
    {
     "data": {
      "text/plain": [
       "11.0"
      ]
     },
     "execution_count": 14,
     "metadata": {},
     "output_type": "execute_result"
    }
   ],
   "source": [
    "(10+12)/2"
   ]
  },
  {
   "cell_type": "code",
   "execution_count": 16,
   "metadata": {},
   "outputs": [
    {
     "ename": "ZeroDivisionError",
     "evalue": "division by zero",
     "output_type": "error",
     "traceback": [
      "\u001b[1;31m---------------------------------------------------------------------------\u001b[0m",
      "\u001b[1;31mZeroDivisionError\u001b[0m                         Traceback (most recent call last)",
      "\u001b[1;32me:\\Data_Science\\PW\\PW-DS_week_work\\Python\\week-2\\revision_sestion.ipynb Cell 18\u001b[0m in \u001b[0;36m<cell line: 4>\u001b[1;34m()\u001b[0m\n\u001b[0;32m      <a href='vscode-notebook-cell:/e%3A/Data_Science/PW/PW-DS_week_work/Python/week-2/revision_sestion.ipynb#X23sZmlsZQ%3D%3D?line=1'>2</a>\u001b[0m n \u001b[39m=\u001b[39m \u001b[39m100\u001b[39m\n\u001b[0;32m      <a href='vscode-notebook-cell:/e%3A/Data_Science/PW/PW-DS_week_work/Python/week-2/revision_sestion.ipynb#X23sZmlsZQ%3D%3D?line=2'>3</a>\u001b[0m m \u001b[39m=\u001b[39m \u001b[39mint\u001b[39m(\u001b[39minput\u001b[39m(\u001b[39m\"\u001b[39m\u001b[39mx =\u001b[39m\u001b[39m\"\u001b[39m))\n\u001b[1;32m----> <a href='vscode-notebook-cell:/e%3A/Data_Science/PW/PW-DS_week_work/Python/week-2/revision_sestion.ipynb#X23sZmlsZQ%3D%3D?line=3'>4</a>\u001b[0m \u001b[39mprint\u001b[39m(n\u001b[39m/\u001b[39;49mm)\n",
      "\u001b[1;31mZeroDivisionError\u001b[0m: division by zero"
     ]
    }
   ],
   "source": [
    "# Run time error\n",
    "n = 100\n",
    "m = int(input(\"x =\"))\n",
    "print(n/m)"
   ]
  },
  {
   "cell_type": "code",
   "execution_count": 20,
   "metadata": {},
   "outputs": [
    {
     "name": "stdout",
     "output_type": "stream",
     "text": [
      "1 "
     ]
    },
    {
     "ename": "KeyboardInterrupt",
     "evalue": "",
     "output_type": "error",
     "traceback": [
      "\u001b[1;31m---------------------------------------------------------------------------\u001b[0m",
      "\u001b[1;31mKeyboardInterrupt\u001b[0m                         Traceback (most recent call last)",
      "\u001b[1;32me:\\Data_Science\\PW\\PW-DS_week_work\\Python\\week-2\\revision_sestion.ipynb Cell 19\u001b[0m in \u001b[0;36m<cell line: 5>\u001b[1;34m()\u001b[0m\n\u001b[0;32m      <a href='vscode-notebook-cell:/e%3A/Data_Science/PW/PW-DS_week_work/Python/week-2/revision_sestion.ipynb#X24sZmlsZQ%3D%3D?line=2'>3</a>\u001b[0m factor \u001b[39m=\u001b[39m \u001b[39m2\u001b[39m\n\u001b[0;32m      <a href='vscode-notebook-cell:/e%3A/Data_Science/PW/PW-DS_week_work/Python/week-2/revision_sestion.ipynb#X24sZmlsZQ%3D%3D?line=4'>5</a>\u001b[0m \u001b[39mwhile\u001b[39;00m factor \u001b[39m<\u001b[39m\u001b[39m=\u001b[39m n\u001b[39m/\u001b[39m\u001b[39m2\u001b[39m:\n\u001b[1;32m----> <a href='vscode-notebook-cell:/e%3A/Data_Science/PW/PW-DS_week_work/Python/week-2/revision_sestion.ipynb#X24sZmlsZQ%3D%3D?line=5'>6</a>\u001b[0m     \u001b[39mif\u001b[39;00m n \u001b[39m%\u001b[39;49m factor \u001b[39m==\u001b[39;49m \u001b[39m0\u001b[39;49m:\n\u001b[0;32m      <a href='vscode-notebook-cell:/e%3A/Data_Science/PW/PW-DS_week_work/Python/week-2/revision_sestion.ipynb#X24sZmlsZQ%3D%3D?line=6'>7</a>\u001b[0m         \u001b[39mprint\u001b[39m(factor,end\u001b[39m=\u001b[39m\u001b[39m\"\u001b[39m\u001b[39m \u001b[39m\u001b[39m\"\u001b[39m)\n\u001b[0;32m      <a href='vscode-notebook-cell:/e%3A/Data_Science/PW/PW-DS_week_work/Python/week-2/revision_sestion.ipynb#X24sZmlsZQ%3D%3D?line=7'>8</a>\u001b[0m         factor \u001b[39m+\u001b[39m\u001b[39m=\u001b[39m \u001b[39m1\u001b[39m\n",
      "\u001b[1;31mKeyboardInterrupt\u001b[0m: "
     ]
    }
   ],
   "source": [
    "n = 7\n",
    "print(1,end = ' ')\n",
    "factor = 2\n",
    "\n",
    "while factor <= n/2:\n",
    "    if n % factor == 0:\n",
    "        print(factor,end=\" \")\n",
    "        factor += 1\n",
    "print(n, end=\"\")"
   ]
  },
  {
   "cell_type": "code",
   "execution_count": 21,
   "metadata": {},
   "outputs": [
    {
     "name": "stdout",
     "output_type": "stream",
     "text": [
      "1\n",
      "2\n",
      "5\n",
      "10\n"
     ]
    }
   ],
   "source": [
    "num = 10\n",
    "i=1\n",
    "while i<= num:\n",
    "    if num % i == 0:\n",
    "        print(i)\n",
    "    i = i+1"
   ]
  },
  {
   "cell_type": "code",
   "execution_count": 23,
   "metadata": {},
   "outputs": [
    {
     "name": "stdout",
     "output_type": "stream",
     "text": [
      "num has value 1\n",
      "num has value 2\n",
      "num has value 3\n",
      "num has value 4\n",
      "num has value 5\n",
      "num has value 6\n",
      "num has value 7\n",
      "Encountered the break statement\n"
     ]
    }
   ],
   "source": [
    "# break statement\n",
    "\n",
    "num = 0\n",
    "for num in range(10):\n",
    "    num = num +1\n",
    "    if num == 8:\n",
    "        break\n",
    "    print(\"num has value\",str(num))\n",
    "print(\"Encountered the break statement\")"
   ]
  },
  {
   "cell_type": "code",
   "execution_count": 25,
   "metadata": {},
   "outputs": [
    {
     "name": "stdout",
     "output_type": "stream",
     "text": [
      "1 \n",
      "1 2 \n",
      "1 2 3 \n",
      "1 2 3 4 \n"
     ]
    }
   ],
   "source": [
    "# Nested loop\n",
    "\n",
    "num = int(input(\"Enter the number to generate the pattern\"))\n",
    "for i in range(1,num):\n",
    "    for j in range(1,i+1):\n",
    "        print(j,end=\" \")\n",
    "    print()"
   ]
  },
  {
   "cell_type": "code",
   "execution_count": 38,
   "metadata": {},
   "outputs": [
    {
     "name": "stdout",
     "output_type": "stream",
     "text": [
      "    * \n",
      "   * * \n",
      "  * * * \n",
      " * * * * \n",
      "* * * * * \n"
     ]
    }
   ],
   "source": [
    "# Nested loop\n",
    "\n",
    "num = int(input(\"Enter the number to generate the pattern\"))\n",
    "k = num -1 \n",
    "for i in range(0,num):\n",
    "    for j in range(0,k):\n",
    "        print(end=\" \")\n",
    "    k=k-1\n",
    "    for j in range(0,i+1):\n",
    "        print(\"*\",end=\" \")\n",
    "    print(\"\\r\")"
   ]
  },
  {
   "cell_type": "code",
   "execution_count": 1,
   "metadata": {},
   "outputs": [
    {
     "name": "stdout",
     "output_type": "stream",
     "text": [
      "         * \n",
      "        * * \n",
      "       * * * \n",
      "      * * * * \n",
      "     * * * * * \n",
      "    * * * * * * \n",
      "   * * * * * * * \n",
      "  * * * * * * * * \n",
      " * * * * * * * * * \n",
      "* * * * * * * * * * \n"
     ]
    }
   ],
   "source": [
    "# Nested loop\n",
    "\n",
    "num = int(input(\"Enter the number to generate the pattern\"))\n",
    "k = num -1 \n",
    "for i in range(0,num):\n",
    "    for j in range(0,k):\n",
    "        print(end=\" \")\n",
    "    k=k-1\n",
    "    for j in range(0,i+1):\n",
    "        print(\"*\",end=\" \")\n",
    "    print(\"\\r\")\n"
   ]
  },
  {
   "cell_type": "code",
   "execution_count": 2,
   "metadata": {},
   "outputs": [
    {
     "name": "stdout",
     "output_type": "stream",
     "text": [
      "Enter value for the cylindrical part of the tent in meter\n",
      "The area of the canvas is:  204.10000000000002 m^2\n",
      "The Total cost 5102.500000000001\n",
      "net price 4686391.125000002\n"
     ]
    }
   ],
   "source": [
    "# Function\n",
    "\n",
    "print(\"Enter value for the cylindrical part of the tent in meter\")\n",
    "h = float(input(\"Enter the height of the cylindrical part :\"))\n",
    "r = float(input(\"Enter the radius :\"))\n",
    "l = float(input(\"Entre the slant height :\"))\n",
    "\n",
    "csa_conical = 3.14*r*l \n",
    "csa_cylin = 2*3.14*r*h  # cylinder formula\n",
    "\n",
    "canvas_area = csa_conical + csa_cylin\n",
    "print(\"The area of the canvas is: \", canvas_area, \"m^2\")\n",
    "unit_price = float(input(\"Enter the cost of 1 m^2 canvas\"))\n",
    "total_cost = unit_price*canvas_area\n",
    "print(\"The Total cost\",total_cost)\n",
    "\n",
    "#tax\n",
    "tax = 0.18*total_cost\n",
    "net_price = total_cost*tax\n",
    "print(\"net price\",net_price)"
   ]
  },
  {
   "cell_type": "code",
   "execution_count": 15,
   "metadata": {},
   "outputs": [],
   "source": [
    "def cyl(h,r):\n",
    "    area_cyl = 2*3.14*r*h\n",
    "    return (area_cyl)\n",
    "\n",
    "def con(l,r):\n",
    "    area_con = 3.14*r*l\n",
    "    return (area_con)\n",
    "\n",
    "def post_tax(cost):\n",
    "    tax = 0.18*cost\n",
    "    netprice = cost + tax\n",
    "    return (netprice)\n",
    "\n"
   ]
  },
  {
   "cell_type": "code",
   "execution_count": 14,
   "metadata": {},
   "outputs": [
    {
     "name": "stdout",
     "output_type": "stream",
     "text": [
      "Enter the value of tent in meters\n",
      "Area of canvas =  427.04 m6\n",
      "Total cost of canvas before tax = 10676.0\n",
      "Net amount payable (including tax) =  12597.68\n"
     ]
    }
   ],
   "source": [
    "\n",
    "print(\"Enter the value of tent in meters\")\n",
    "h = float(input(\"height :\"))\n",
    "r = float(input(\"Radius :\"))\n",
    "csa_cyl = cyl(h,r)\n",
    "l = float(input(\"slant height\"))\n",
    "csa_con = con(l,r)\n",
    "canvas_area = csa_cyl + csa_con\n",
    "print(\"Area of canvas = \", canvas_area, \"m6\")\n",
    "unitprice = float(input(\"ENter the unit price\"))\n",
    "totalcost = unitprice * canvas_area\n",
    "print(\"Total cost of canvas before tax =\",totalcost)\n",
    "print(\"Net amount payable (including tax) = \",post_tax(totalcost))\n",
    "\n"
   ]
  },
  {
   "cell_type": "code",
   "execution_count": 16,
   "metadata": {},
   "outputs": [],
   "source": [
    "def cyl(h,r):\n",
    "    area_cyl = 2*3.14*r*h\n",
    "    return (area_cyl)\n",
    "\n",
    "def con(l,r):\n",
    "    area_con = 3.14*r*l\n",
    "    return (area_con)\n",
    "\n",
    "def post_tax(cost):\n",
    "    tax = 0.18*cost\n",
    "    netprice = cost + tax\n",
    "    return (netprice)\n",
    "\n",
    "def rect(l,b):\n",
    "    area_rect = l*b\n",
    "    return area_rect\n"
   ]
  },
  {
   "cell_type": "code",
   "execution_count": 17,
   "metadata": {},
   "outputs": [
    {
     "name": "stdout",
     "output_type": "stream",
     "text": [
      "Enter the value of tent in meters\n",
      "Area of canvas =  263.76 m6\n",
      "Total cost of canvas before tax = 6594.0\n",
      "Net amount payable (including tax) =  7780.92\n"
     ]
    }
   ],
   "source": [
    "\n",
    "print(\"Enter the value of tent in meters\")\n",
    "len = float(input(\"length :\"))\n",
    "bre = float(input(\"Breadth :\"))\n",
    "r = float(input(\"Radius :\"))\n",
    "l = float(input(\"slant height\"))\n",
    "csa_rect = rect(len,bre)\n",
    "csa_con = con(l,r)\n",
    "canvas_area = csa_cyl + csa_con\n",
    "print(\"Area of canvas = \", canvas_area, \"m6\")\n",
    "unitprice = float(input(\"ENter the unit price\"))\n",
    "totalcost = unitprice * canvas_area\n",
    "print(\"Total cost of canvas before tax =\",totalcost)\n",
    "print(\"Net amount payable (including tax) = \",post_tax(totalcost))\n",
    "\n"
   ]
  },
  {
   "cell_type": "code",
   "execution_count": 18,
   "metadata": {},
   "outputs": [],
   "source": [
    "def incrvalue(num):\n",
    "    print(\"parameter num has value\",num,\"\\nid = \",id(num))\n",
    "    num = num+5\n",
    "    print(\"num increment by 5 is\",num,\"\\n now id is\",id(num))"
   ]
  },
  {
   "cell_type": "code",
   "execution_count": 19,
   "metadata": {},
   "outputs": [
    {
     "name": "stdout",
     "output_type": "stream",
     "text": [
      "id of the argument number is: 1930042540400\n",
      "parameter num has value 5 \n",
      "id =  1930042540400\n",
      "num increment by 5 is 10 \n",
      " now id is 1930042540560\n"
     ]
    }
   ],
   "source": [
    "number = int(input(\"Enter the number:\"))\n",
    "print(\"id of the argument number is:\",id(number))\n",
    "\n",
    "incrvalue(number)"
   ]
  },
  {
   "cell_type": "code",
   "execution_count": 20,
   "metadata": {},
   "outputs": [],
   "source": [
    "# Mixied fraction\n",
    "\n",
    "# 5 1/2\n",
    "\n",
    "# 5.5"
   ]
  },
  {
   "cell_type": "code",
   "execution_count": 22,
   "metadata": {},
   "outputs": [],
   "source": [
    "\n",
    "def mixedfraction(num, deno = 1):\n",
    "    remainder = num%deno\n",
    "    if remainder != 0:\n",
    "        quotient = int(num/deno)\n",
    "        print(\"The mixed fraction = \", quotient,\"(\",remainder, \"/\",deno,\")\")\n",
    "    else:\n",
    "        print(\"The given fraction evaluated to a whole number\")"
   ]
  },
  {
   "cell_type": "code",
   "execution_count": 24,
   "metadata": {},
   "outputs": [
    {
     "name": "stdout",
     "output_type": "stream",
     "text": [
      "You entered : 17 / 2\n",
      "The mixed fraction =  8 ( 1 / 2 )\n"
     ]
    }
   ],
   "source": [
    "num = int(input(\"Enter the number:\"))\n",
    "deno = int(input(\"Enter the denominator: \"))\n",
    "print(\"You entered :\",num,\"/\",deno)\n",
    "if num > deno:\n",
    "    mixedfraction(num,deno)\n",
    "else:\n",
    "    print(\"It is a proper fraction\")"
   ]
  },
  {
   "cell_type": "code",
   "execution_count": null,
   "metadata": {},
   "outputs": [],
   "source": []
  }
 ],
 "metadata": {
  "kernelspec": {
   "display_name": "Python 3",
   "language": "python",
   "name": "python3"
  },
  "language_info": {
   "codemirror_mode": {
    "name": "ipython",
    "version": 3
   },
   "file_extension": ".py",
   "mimetype": "text/x-python",
   "name": "python",
   "nbconvert_exporter": "python",
   "pygments_lexer": "ipython3",
   "version": "3.10.11"
  },
  "orig_nbformat": 4
 },
 "nbformat": 4,
 "nbformat_minor": 2
}
