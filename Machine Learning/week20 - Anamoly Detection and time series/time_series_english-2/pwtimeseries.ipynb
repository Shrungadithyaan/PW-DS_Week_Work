{
 "cells": [
  {
   "cell_type": "markdown",
   "metadata": {},
   "source": [
    "1. Data Ingesiton\n",
    "\n",
    "2. Eda of the data\n",
    "\n",
    "3. processing of the data\n",
    "\n",
    "4. model building\n",
    "\n",
    "5. model evalution"
   ]
  },
  {
   "cell_type": "markdown",
   "metadata": {},
   "source": [
    "# Data Ingestion\n",
    "\n",
    "Import the Required Libraries: Import the required libraries such as pandas, numpy, matplotlib, seaborn, etc.\n",
    "\n",
    "Load the Data.\n",
    "\n",
    "Load the Time Series Data into a pandas dataframe.\n",
    "\n",
    "Set the datetime column as the index of the dataframe.\n",
    "\n",
    "Check the datatype of the index and convert it to datetime if necessary."
   ]
  },
  {
   "cell_type": "code",
   "execution_count": null,
   "metadata": {},
   "outputs": [],
   "source": []
  }
 ],
 "metadata": {
  "language_info": {
   "name": "python"
  }
 },
 "nbformat": 4,
 "nbformat_minor": 2
}
