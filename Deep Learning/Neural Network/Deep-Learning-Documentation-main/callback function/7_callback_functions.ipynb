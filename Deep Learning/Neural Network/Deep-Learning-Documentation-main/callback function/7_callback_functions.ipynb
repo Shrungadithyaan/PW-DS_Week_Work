{
 "cells": [
  {
   "attachments": {},
   "cell_type": "markdown",
   "metadata": {
    "id": "WEkByOw2CoyQ"
   },
   "source": [
    "# Practical discussion of Callback functions:\n",
    "A callback is a powerful tool to customize the behavior of a Keras model during training, evaluation, or inference.TensorBoard to visualize training progress and results with TensorBoard, or tf.keras.callbacks. ModelCheckpoint to periodically save your model during training. This callback reduces the learning rate when a metric you've mentioned during training eg. accuracy or loss has stopped improving. Models often benefit from reducing the learning rate.There are many callback functions,\n",
    "\n",
    "- Early Stopping callback\n",
    "- Model checkpointing callback\n",
    "- Tensorboard callback Functions\n",
    "\n",
    "\n",
    "We will also see how to save a model & load as well."
   ]
  },
  {
   "cell_type": "code",
   "execution_count": 1,
   "metadata": {
    "id": "sq-2AmEEwH21"
   },
   "outputs": [],
   "source": [
    "# Importing Libraries\n",
    "import tensorflow as tf\n",
    "import matplotlib.pyplot as plt\n",
    "import numpy as np\n",
    "import pandas as pd\n",
    "import seaborn as sns\n",
    "import os"
   ]
  },
  {
   "cell_type": "code",
   "execution_count": 4,
   "metadata": {
    "colab": {
     "base_uri": "https://localhost:8080/"
    },
    "id": "WvPQdpO-0MLw",
    "outputId": "53077328-71ae-4606-cda0-be4259c47f37"
   },
   "outputs": [
    {
     "name": "stdout",
     "output_type": "stream",
     "text": [
      "Tensorflow Version 2.14.0\n"
     ]
    },
    {
     "ename": "AttributeError",
     "evalue": "module 'keras.api._v2.keras' has no attribute '__version__'",
     "output_type": "error",
     "traceback": [
      "\u001b[1;31m---------------------------------------------------------------------------\u001b[0m",
      "\u001b[1;31mAttributeError\u001b[0m                            Traceback (most recent call last)",
      "Cell \u001b[1;32mIn[4], line 3\u001b[0m\n\u001b[0;32m      1\u001b[0m \u001b[38;5;66;03m# Checking version of Tensorflow and Keras\u001b[39;00m\n\u001b[0;32m      2\u001b[0m \u001b[38;5;28mprint\u001b[39m(\u001b[38;5;124mf\u001b[39m\u001b[38;5;124m\"\u001b[39m\u001b[38;5;124mTensorflow Version \u001b[39m\u001b[38;5;132;01m{\u001b[39;00mtf\u001b[38;5;241m.\u001b[39m__version__\u001b[38;5;132;01m}\u001b[39;00m\u001b[38;5;124m\"\u001b[39m)\n\u001b[1;32m----> 3\u001b[0m \u001b[38;5;28mprint\u001b[39m(\u001b[38;5;124mf\u001b[39m\u001b[38;5;124m\"\u001b[39m\u001b[38;5;124mKeras Version \u001b[39m\u001b[38;5;132;01m{\u001b[39;00m\u001b[43mtf\u001b[49m\u001b[38;5;241;43m.\u001b[39;49m\u001b[43mkeras\u001b[49m\u001b[38;5;241;43m.\u001b[39;49m\u001b[43m__version__\u001b[49m\u001b[38;5;132;01m}\u001b[39;00m\u001b[38;5;124m\"\u001b[39m)\n",
      "\u001b[1;31mAttributeError\u001b[0m: module 'keras.api._v2.keras' has no attribute '__version__'"
     ]
    }
   ],
   "source": [
    "# Checking version of Tensorflow and Keras\n",
    "print(f\"Tensorflow Version {tf.__version__}\")\n",
    "print(f\"Keras Version {tf.keras.__version__}\")"
   ]
  },
  {
   "cell_type": "markdown",
   "metadata": {
    "id": "DfZCUhc-1uUO"
   },
   "source": [
    "# GPU / CPU Check"
   ]
  },
  {
   "cell_type": "code",
   "execution_count": 5,
   "metadata": {
    "colab": {
     "base_uri": "https://localhost:8080/"
    },
    "id": "mfUan8Jhz68O",
    "outputId": "928ef6ea-1d49-48e1-f1f9-ac2d76431b0c"
   },
   "outputs": [
    {
     "data": {
      "text/plain": [
       "[]"
      ]
     },
     "execution_count": 5,
     "metadata": {},
     "output_type": "execute_result"
    }
   ],
   "source": [
    "tf.config.list_physical_devices(\"GPU\")"
   ]
  },
  {
   "cell_type": "code",
   "execution_count": 6,
   "metadata": {
    "colab": {
     "base_uri": "https://localhost:8080/"
    },
    "id": "EWyHHMP313fl",
    "outputId": "8403a794-8024-4c92-9a1a-0ece7e2c8528"
   },
   "outputs": [
    {
     "data": {
      "text/plain": [
       "[PhysicalDevice(name='/physical_device:CPU:0', device_type='CPU')]"
      ]
     },
     "execution_count": 6,
     "metadata": {},
     "output_type": "execute_result"
    }
   ],
   "source": [
    "tf.config.list_physical_devices(\"CPU\")"
   ]
  },
  {
   "cell_type": "code",
   "execution_count": 7,
   "metadata": {
    "colab": {
     "base_uri": "https://localhost:8080/"
    },
    "id": "pM5uje1x2eMD",
    "outputId": "8a2eec5c-faa6-4e1b-924f-03d9e41f1d93"
   },
   "outputs": [
    {
     "name": "stdout",
     "output_type": "stream",
     "text": [
      "GPU isn't available!\n",
      "CPU is available!\n",
      "Details >> [PhysicalDevice(name='/physical_device:CPU:0', device_type='CPU')]\n"
     ]
    }
   ],
   "source": [
    "check_list = ['GPU','CPU']\n",
    "\n",
    "for device in check_list:\n",
    "  out = tf.config.list_physical_devices(device)\n",
    "  if len(out) > 0:\n",
    "    print(f\"{device} is available!\")\n",
    "    print(f\"Details >> {out}\")\n",
    "  else:\n",
    "    print(f\"{device} isn't available!\")"
   ]
  },
  {
   "cell_type": "markdown",
   "metadata": {
    "id": "-70GfkPo40AU"
   },
   "source": [
    "## Creating a simple classifier using keras on MNIST data"
   ]
  },
  {
   "cell_type": "code",
   "execution_count": 8,
   "metadata": {
    "colab": {
     "base_uri": "https://localhost:8080/"
    },
    "id": "JBe6PgRw3sA9",
    "outputId": "ccf4ca97-0b4c-4eff-f135-c9c71d16330f"
   },
   "outputs": [
    {
     "name": "stdout",
     "output_type": "stream",
     "text": [
      "Downloading data from https://storage.googleapis.com/tensorflow/tf-keras-datasets/mnist.npz\n",
      "11490434/11490434 [==============================] - 2s 0us/step\n"
     ]
    }
   ],
   "source": [
    "mnist = tf.keras.datasets.mnist\n",
    "(X_train_full, y_train_full), (X_test, y_test) = mnist.load_data()"
   ]
  },
  {
   "cell_type": "code",
   "execution_count": 9,
   "metadata": {
    "colab": {
     "base_uri": "https://localhost:8080/"
    },
    "id": "R5LmGcHH6J-o",
    "outputId": "1b3f85cc-82f2-4758-84df-37b78866c959"
   },
   "outputs": [
    {
     "name": "stdout",
     "output_type": "stream",
     "text": [
      "data type of X_train_full: uint8,\n",
      " shape of X_train_full: (60000, 28, 28)\n"
     ]
    }
   ],
   "source": [
    "print(f\"data type of X_train_full: {X_train_full.dtype},\\n shape of X_train_full: {X_train_full.shape}\")"
   ]
  },
  {
   "cell_type": "code",
   "execution_count": 10,
   "metadata": {
    "colab": {
     "base_uri": "https://localhost:8080/"
    },
    "id": "8t6NOhqg6RKF",
    "outputId": "9fe51398-f377-4280-c444-5ac481508e10"
   },
   "outputs": [
    {
     "data": {
      "text/plain": [
       "(10000, 28, 28)"
      ]
     },
     "execution_count": 10,
     "metadata": {},
     "output_type": "execute_result"
    }
   ],
   "source": [
    "X_test.shape"
   ]
  },
  {
   "cell_type": "code",
   "execution_count": 11,
   "metadata": {
    "colab": {
     "base_uri": "https://localhost:8080/"
    },
    "id": "e2zOHUTJ6mO8",
    "outputId": "353e86fb-578a-44e5-fa34-59ddd44e1553"
   },
   "outputs": [
    {
     "data": {
      "text/plain": [
       "28"
      ]
     },
     "execution_count": 11,
     "metadata": {},
     "output_type": "execute_result"
    }
   ],
   "source": [
    "len(X_test[1][0])"
   ]
  },
  {
   "cell_type": "code",
   "execution_count": 12,
   "metadata": {
    "id": "bEclfbkd7HBk"
   },
   "outputs": [],
   "source": [
    "# create a validation data set from the full training data \n",
    "# Scale the data between 0 to 1 by dividing it by 255. as its an unsigned data between 0-255 range\n",
    "X_valid, X_train = X_train_full[:5000] / 255., X_train_full[5000:] / 255.\n",
    "y_valid, y_train = y_train_full[:5000], y_train_full[5000:]\n",
    "\n",
    "# scale the test set as well\n",
    "X_test = X_test / 255.\n"
   ]
  },
  {
   "cell_type": "code",
   "execution_count": 13,
   "metadata": {
    "colab": {
     "base_uri": "https://localhost:8080/"
    },
    "id": "APQr-0Qp73Bn",
    "outputId": "3a96db43-70cc-4b1d-98b9-d6598c307ace"
   },
   "outputs": [
    {
     "data": {
      "text/plain": [
       "55000"
      ]
     },
     "execution_count": 13,
     "metadata": {},
     "output_type": "execute_result"
    }
   ],
   "source": [
    "len(X_train_full[5000:] )"
   ]
  },
  {
   "cell_type": "code",
   "execution_count": 14,
   "metadata": {
    "colab": {
     "base_uri": "https://localhost:8080/",
     "height": 265
    },
    "id": "JUQ94J7C73kb",
    "outputId": "adbc5c88-588c-442c-a087-b7ee1e330487"
   },
   "outputs": [
    {
     "data": {
      "image/png": "[encoded data removed]",
      "text/plain": [
       "<Figure size 640x480 with 1 Axes>"
      ]
     },
     "metadata": {},
     "output_type": "display_data"
    }
   ],
   "source": [
    "# Lets view some data \n",
    "plt.imshow(X_train[0], cmap=\"binary\")\n",
    "plt.show()"
   ]
  },
  {
   "cell_type": "code",
   "execution_count": 15,
   "metadata": {
    "colab": {
     "base_uri": "https://localhost:8080/",
     "height": 881
    },
    "id": "_dkBvCts8_Pp",
    "outputId": "81c1914e-da96-4bfb-c2ae-277a983f3bcd"
   },
   "outputs": [
    {
     "data": {
      "text/plain": [
       "<Axes: >"
      ]
     },
     "execution_count": 15,
     "metadata": {},
     "output_type": "execute_result"
    },
    {
     "data": {
      "image/png": "[encoded data removed]",
      "text/plain": [
       "<Figure size 1500x1500 with 2 Axes>"
      ]
     },
     "metadata": {},
     "output_type": "display_data"
    }
   ],
   "source": [
    "plt.figure(figsize=(15,15))\n",
    "sns.heatmap(X_train[0], annot=True, cmap=\"binary\")"
   ]
  },
  {
   "cell_type": "code",
   "execution_count": 16,
   "metadata": {
    "id": "chpwnlxY9vKl"
   },
   "outputs": [],
   "source": [
    "LAYERS = [tf.keras.layers.Flatten(input_shape=[28, 28], name=\"inputLayer\"),\n",
    "          tf.keras.layers.Dense(300, activation=\"relu\", name=\"hiddenLayer1\"),\n",
    "          tf.keras.layers.Dense(100, activation=\"relu\", name=\"hiddenLayer2\"),\n",
    "          tf.keras.layers.Dense(10, activation=\"softmax\", name=\"outputLayer\")]\n",
    "\n",
    "model_clf = tf.keras.models.Sequential(LAYERS)"
   ]
  },
  {
   "cell_type": "code",
   "execution_count": 17,
   "metadata": {
    "colab": {
     "base_uri": "https://localhost:8080/"
    },
    "id": "lD4dJqeKG6FZ",
    "outputId": "f378cf07-af4c-4bdc-cb4c-41b92bfb4f7b"
   },
   "outputs": [
    {
     "data": {
      "text/plain": [
       "[<keras.src.layers.reshaping.flatten.Flatten at 0x20af8c31210>,\n",
       " <keras.src.layers.core.dense.Dense at 0x20af8bb33d0>,\n",
       " <keras.src.layers.core.dense.Dense at 0x20af541d650>,\n",
       " <keras.src.layers.core.dense.Dense at 0x20af54d6c50>]"
      ]
     },
     "execution_count": 17,
     "metadata": {},
     "output_type": "execute_result"
    }
   ],
   "source": [
    "model_clf.layers"
   ]
  },
  {
   "cell_type": "code",
   "execution_count": 18,
   "metadata": {
    "colab": {
     "base_uri": "https://localhost:8080/"
    },
    "id": "L00mxNi_HDHv",
    "outputId": "6152d51c-95ab-4f26-8a4e-75b50a8cf091"
   },
   "outputs": [
    {
     "name": "stdout",
     "output_type": "stream",
     "text": [
      "Model: \"sequential\"\n",
      "_________________________________________________________________\n",
      " Layer (type)                Output Shape              Param #   \n",
      "=================================================================\n",
      " inputLayer (Flatten)        (None, 784)               0         \n",
      "                                                                 \n",
      " hiddenLayer1 (Dense)        (None, 300)               235500    \n",
      "                                                                 \n",
      " hiddenLayer2 (Dense)        (None, 100)               30100     \n",
      "                                                                 \n",
      " outputLayer (Dense)         (None, 10)                1010      \n",
      "                                                                 \n",
      "=================================================================\n",
      "Total params: 266610 (1.02 MB)\n",
      "Trainable params: 266610 (1.02 MB)\n",
      "Non-trainable params: 0 (0.00 Byte)\n",
      "_________________________________________________________________\n"
     ]
    }
   ],
   "source": [
    "model_clf.summary()"
   ]
  },
  {
   "cell_type": "code",
   "execution_count": 19,
   "metadata": {
    "colab": {
     "base_uri": "https://localhost:8080/"
    },
    "id": "qlCw_a9-HJcu",
    "outputId": "f8d154bf-3dd0-4f60-e4da-9eb848c888f2"
   },
   "outputs": [
    {
     "data": {
      "text/plain": [
       "(235500, 30100, 1010)"
      ]
     },
     "execution_count": 19,
     "metadata": {},
     "output_type": "execute_result"
    }
   ],
   "source": [
    "# first Layer * second Layer + bias\n",
    "784*300 + 300, 300*100+100, 100*10+10"
   ]
  },
  {
   "cell_type": "code",
   "execution_count": 20,
   "metadata": {
    "colab": {
     "base_uri": "https://localhost:8080/"
    },
    "id": "aic7TfOeH3tD",
    "outputId": "c54c6f59-0c2c-4a07-b1f1-9a2211036de3"
   },
   "outputs": [
    {
     "data": {
      "text/plain": [
       "266610"
      ]
     },
     "execution_count": 20,
     "metadata": {},
     "output_type": "execute_result"
    }
   ],
   "source": [
    "# Total parameters to be trained -\n",
    "sum((235500, 30100, 1010))"
   ]
  },
  {
   "cell_type": "code",
   "execution_count": 21,
   "metadata": {
    "colab": {
     "base_uri": "https://localhost:8080/",
     "height": 35
    },
    "id": "El3oZIfZH_cJ",
    "outputId": "caf1cb98-97de-46b0-8062-77dea4bbeb81"
   },
   "outputs": [
    {
     "data": {
      "text/plain": [
       "'hiddenLayer1'"
      ]
     },
     "execution_count": 21,
     "metadata": {},
     "output_type": "execute_result"
    }
   ],
   "source": [
    "hidden1 = model_clf.layers[1]\n",
    "hidden1.name"
   ]
  },
  {
   "cell_type": "code",
   "execution_count": 22,
   "metadata": {
    "colab": {
     "base_uri": "https://localhost:8080/"
    },
    "id": "tu-qqoYfIFRX",
    "outputId": "54ef97aa-db6b-4feb-d650-2de835e96663"
   },
   "outputs": [
    {
     "data": {
      "text/plain": [
       "True"
      ]
     },
     "execution_count": 22,
     "metadata": {},
     "output_type": "execute_result"
    }
   ],
   "source": [
    "model_clf.get_layer(hidden1.name) is hidden1"
   ]
  },
  {
   "cell_type": "code",
   "execution_count": 23,
   "metadata": {
    "colab": {
     "base_uri": "https://localhost:8080/"
    },
    "id": "iqWANcaOIGfe",
    "outputId": "c06773ed-e21b-4d57-ade8-e040fd3fe2df"
   },
   "outputs": [
    {
     "data": {
      "text/plain": [
       "300"
      ]
     },
     "execution_count": 23,
     "metadata": {},
     "output_type": "execute_result"
    }
   ],
   "source": [
    "len(hidden1.get_weights()[1])"
   ]
  },
  {
   "cell_type": "code",
   "execution_count": 24,
   "metadata": {
    "colab": {
     "base_uri": "https://localhost:8080/"
    },
    "id": "2xxceSNIIdLI",
    "outputId": "013716f8-90ef-43dd-a216-a8eeabf0ee8d"
   },
   "outputs": [
    {
     "data": {
      "text/plain": [
       "[array([[-0.05605786,  0.05220054,  0.02902736, ..., -0.04825427,\n",
       "          0.06298238, -0.02893589],\n",
       "        [-0.0236191 , -0.06980408, -0.03160946, ..., -0.0197061 ,\n",
       "         -0.0407021 ,  0.04633445],\n",
       "        [ 0.01418601, -0.04328744, -0.07161197, ..., -0.00025094,\n",
       "         -0.05850758, -0.03818775],\n",
       "        ...,\n",
       "        [-0.00702032,  0.07036451, -0.03086115, ..., -0.06858637,\n",
       "         -0.05297761, -0.03596338],\n",
       "        [-0.00457436,  0.03887025,  0.00823141, ..., -0.02387151,\n",
       "          0.00609093,  0.01431222],\n",
       "        [ 0.05336368, -0.06307774, -0.05674148, ...,  0.06529666,\n",
       "         -0.04291197,  0.02897491]], dtype=float32),\n",
       " array([0., 0., 0., 0., 0., 0., 0., 0., 0., 0., 0., 0., 0., 0., 0., 0., 0.,\n",
       "        0., 0., 0., 0., 0., 0., 0., 0., 0., 0., 0., 0., 0., 0., 0., 0., 0.,\n",
       "        0., 0., 0., 0., 0., 0., 0., 0., 0., 0., 0., 0., 0., 0., 0., 0., 0.,\n",
       "        0., 0., 0., 0., 0., 0., 0., 0., 0., 0., 0., 0., 0., 0., 0., 0., 0.,\n",
       "        0., 0., 0., 0., 0., 0., 0., 0., 0., 0., 0., 0., 0., 0., 0., 0., 0.,\n",
       "        0., 0., 0., 0., 0., 0., 0., 0., 0., 0., 0., 0., 0., 0., 0., 0., 0.,\n",
       "        0., 0., 0., 0., 0., 0., 0., 0., 0., 0., 0., 0., 0., 0., 0., 0., 0.,\n",
       "        0., 0., 0., 0., 0., 0., 0., 0., 0., 0., 0., 0., 0., 0., 0., 0., 0.,\n",
       "        0., 0., 0., 0., 0., 0., 0., 0., 0., 0., 0., 0., 0., 0., 0., 0., 0.,\n",
       "        0., 0., 0., 0., 0., 0., 0., 0., 0., 0., 0., 0., 0., 0., 0., 0., 0.,\n",
       "        0., 0., 0., 0., 0., 0., 0., 0., 0., 0., 0., 0., 0., 0., 0., 0., 0.,\n",
       "        0., 0., 0., 0., 0., 0., 0., 0., 0., 0., 0., 0., 0., 0., 0., 0., 0.,\n",
       "        0., 0., 0., 0., 0., 0., 0., 0., 0., 0., 0., 0., 0., 0., 0., 0., 0.,\n",
       "        0., 0., 0., 0., 0., 0., 0., 0., 0., 0., 0., 0., 0., 0., 0., 0., 0.,\n",
       "        0., 0., 0., 0., 0., 0., 0., 0., 0., 0., 0., 0., 0., 0., 0., 0., 0.,\n",
       "        0., 0., 0., 0., 0., 0., 0., 0., 0., 0., 0., 0., 0., 0., 0., 0., 0.,\n",
       "        0., 0., 0., 0., 0., 0., 0., 0., 0., 0., 0., 0., 0., 0., 0., 0., 0.,\n",
       "        0., 0., 0., 0., 0., 0., 0., 0., 0., 0., 0.], dtype=float32)]"
      ]
     },
     "execution_count": 24,
     "metadata": {},
     "output_type": "execute_result"
    }
   ],
   "source": [
    "hidden1.get_weights()"
   ]
  },
  {
   "cell_type": "code",
   "execution_count": 25,
   "metadata": {
    "id": "BbfqRbVdI2XZ"
   },
   "outputs": [],
   "source": [
    "weights, biases = hidden1.get_weights()"
   ]
  },
  {
   "cell_type": "code",
   "execution_count": 26,
   "metadata": {
    "colab": {
     "base_uri": "https://localhost:8080/"
    },
    "id": "F7M87gW9QyOO",
    "outputId": "685a932e-eb55-44b9-f47d-7b5884b978b6"
   },
   "outputs": [
    {
     "name": "stdout",
     "output_type": "stream",
     "text": [
      "shape\n",
      " (784, 300) \n",
      "\n"
     ]
    },
    {
     "data": {
      "text/plain": [
       "array([[-0.05605786,  0.05220054,  0.02902736, ..., -0.04825427,\n",
       "         0.06298238, -0.02893589],\n",
       "       [-0.0236191 , -0.06980408, -0.03160946, ..., -0.0197061 ,\n",
       "        -0.0407021 ,  0.04633445],\n",
       "       [ 0.01418601, -0.04328744, -0.07161197, ..., -0.00025094,\n",
       "        -0.05850758, -0.03818775],\n",
       "       ...,\n",
       "       [-0.00702032,  0.07036451, -0.03086115, ..., -0.06858637,\n",
       "        -0.05297761, -0.03596338],\n",
       "       [-0.00457436,  0.03887025,  0.00823141, ..., -0.02387151,\n",
       "         0.00609093,  0.01431222],\n",
       "       [ 0.05336368, -0.06307774, -0.05674148, ...,  0.06529666,\n",
       "        -0.04291197,  0.02897491]], dtype=float32)"
      ]
     },
     "execution_count": 26,
     "metadata": {},
     "output_type": "execute_result"
    }
   ],
   "source": [
    "print(\"shape\\n\",weights.shape, \"\\n\")\n",
    "weights"
   ]
  },
  {
   "cell_type": "code",
   "execution_count": 27,
   "metadata": {
    "colab": {
     "base_uri": "https://localhost:8080/"
    },
    "id": "7Q9tY70YQ4WW",
    "outputId": "827ddc1d-fdeb-4f29-c759-64372e690d11"
   },
   "outputs": [
    {
     "name": "stdout",
     "output_type": "stream",
     "text": [
      "shape\n",
      " (300,)\n"
     ]
    }
   ],
   "source": [
    "print(\"shape\\n\", biases.shape)"
   ]
  },
  {
   "cell_type": "code",
   "execution_count": 28,
   "metadata": {
    "id": "2t7gjY6gRPwH"
   },
   "outputs": [],
   "source": [
    "LOSS_FUNCTION = \"sparse_categorical_crossentropy\" # use => tf.losses.sparse_categorical_crossentropy\n",
    "OPTIMIZER = \"SGD\" # or use with custom learning rate=> tf.keras.optimizers.SGD(0.02)\n",
    "METRICS = [\"accuracy\"]\n",
    "\n",
    "model_clf.compile(loss=LOSS_FUNCTION,\n",
    "              optimizer=OPTIMIZER,\n",
    "              metrics=METRICS)\n"
   ]
  },
  {
   "cell_type": "markdown",
   "metadata": {
    "id": "VARVD3ug2vO1"
   },
   "source": [
    "# Tensorboard callback Functions"
   ]
  },
  {
   "cell_type": "code",
   "execution_count": 29,
   "metadata": {
    "colab": {
     "base_uri": "https://localhost:8080/"
    },
    "id": "Po0iES-52uuh",
    "outputId": "65c513e6-b2bc-44b9-b207-40d45669424e"
   },
   "outputs": [
    {
     "name": "stdout",
     "output_type": "stream",
     "text": [
      "Saving logs at logs/fit\\log_2023_04_27_13_06_40\n"
     ]
    }
   ],
   "source": [
    "# Logging\n",
    "\n",
    "import time \n",
    "\n",
    "def get_log_path(log_dir=\"logs/fit\"):\n",
    "  fileName = time.strftime(\"log_%Y_%m_%d_%H_%M_%S\")\n",
    "  logs_path = os.path.join(log_dir, fileName)\n",
    "  print(f\"Saving logs at {logs_path}\")\n",
    "  return logs_path\n",
    "\n",
    "log_dir = get_log_path()\n",
    "tb_cb = tf.keras.callbacks.TensorBoard(log_dir=log_dir)"
   ]
  },
  {
   "cell_type": "markdown",
   "metadata": {
    "id": "IlNvHh7s9mBL"
   },
   "source": [
    "# Early Stopping callback"
   ]
  },
  {
   "cell_type": "code",
   "execution_count": 30,
   "metadata": {
    "id": "WqvAlcRj4dzw"
   },
   "outputs": [],
   "source": [
    "early_stopping_cb = tf.keras.callbacks.EarlyStopping(patience=5, restore_best_weights=True)"
   ]
  },
  {
   "cell_type": "markdown",
   "metadata": {
    "id": "eHl4AiRp-X1H"
   },
   "source": [
    "# Model checkpointing callback"
   ]
  },
  {
   "cell_type": "code",
   "execution_count": 31,
   "metadata": {
    "id": "z440cvjU-PYu"
   },
   "outputs": [],
   "source": [
    "CKPT_path = \"Model_ckpt.h5\"\n",
    "checkpointing_cb = tf.keras.callbacks.ModelCheckpoint(CKPT_path, save_best_only=True)"
   ]
  },
  {
   "cell_type": "code",
   "execution_count": 32,
   "metadata": {
    "colab": {
     "base_uri": "https://localhost:8080/"
    },
    "id": "3KQLlGPMRkKf",
    "outputId": "732e3328-2236-4e17-952b-7b55953b7d8d"
   },
   "outputs": [
    {
     "name": "stdout",
     "output_type": "stream",
     "text": [
      "Epoch 1/30\n",
      "1719/1719 [==============================] - 6s 2ms/step - loss: 0.6000 - accuracy: 0.8444 - val_loss: 0.3081 - val_accuracy: 0.9176\n",
      "Epoch 2/30\n",
      "1719/1719 [==============================] - 4s 2ms/step - loss: 0.2936 - accuracy: 0.9163 - val_loss: 0.2468 - val_accuracy: 0.9308\n",
      "Epoch 3/30\n",
      "1719/1719 [==============================] - 4s 2ms/step - loss: 0.2406 - accuracy: 0.9315 - val_loss: 0.2072 - val_accuracy: 0.9442\n",
      "Epoch 4/30\n",
      "1719/1719 [==============================] - 4s 2ms/step - loss: 0.2054 - accuracy: 0.9416 - val_loss: 0.1807 - val_accuracy: 0.9510\n",
      "Epoch 5/30\n",
      "1719/1719 [==============================] - 4s 2ms/step - loss: 0.1787 - accuracy: 0.9490 - val_loss: 0.1650 - val_accuracy: 0.9566\n",
      "Epoch 6/30\n",
      "1719/1719 [==============================] - 4s 2ms/step - loss: 0.1575 - accuracy: 0.9554 - val_loss: 0.1458 - val_accuracy: 0.9614\n",
      "Epoch 7/30\n",
      "1719/1719 [==============================] - 4s 2ms/step - loss: 0.1408 - accuracy: 0.9599 - val_loss: 0.1338 - val_accuracy: 0.9632\n",
      "Epoch 8/30\n",
      "1719/1719 [==============================] - 4s 2ms/step - loss: 0.1270 - accuracy: 0.9637 - val_loss: 0.1239 - val_accuracy: 0.9674\n",
      "Epoch 9/30\n",
      "1719/1719 [==============================] - 4s 2ms/step - loss: 0.1156 - accuracy: 0.9677 - val_loss: 0.1158 - val_accuracy: 0.9690\n",
      "Epoch 10/30\n",
      "1719/1719 [==============================] - 4s 2ms/step - loss: 0.1055 - accuracy: 0.9700 - val_loss: 0.1131 - val_accuracy: 0.9698\n",
      "Epoch 11/30\n",
      "1719/1719 [==============================] - 4s 2ms/step - loss: 0.0970 - accuracy: 0.9733 - val_loss: 0.1045 - val_accuracy: 0.9706\n",
      "Epoch 12/30\n",
      "1719/1719 [==============================] - 4s 2ms/step - loss: 0.0899 - accuracy: 0.9751 - val_loss: 0.0975 - val_accuracy: 0.9730\n",
      "Epoch 13/30\n",
      "1719/1719 [==============================] - 4s 2ms/step - loss: 0.0831 - accuracy: 0.9768 - val_loss: 0.0966 - val_accuracy: 0.9724\n",
      "Epoch 14/30\n",
      "1719/1719 [==============================] - 4s 2ms/step - loss: 0.0771 - accuracy: 0.9783 - val_loss: 0.0916 - val_accuracy: 0.9740\n",
      "Epoch 15/30\n",
      "1719/1719 [==============================] - 4s 2ms/step - loss: 0.0719 - accuracy: 0.9799 - val_loss: 0.0895 - val_accuracy: 0.9754\n",
      "Epoch 16/30\n",
      "1719/1719 [==============================] - 4s 2ms/step - loss: 0.0671 - accuracy: 0.9816 - val_loss: 0.0869 - val_accuracy: 0.9754\n",
      "Epoch 17/30\n",
      "1719/1719 [==============================] - 4s 2ms/step - loss: 0.0630 - accuracy: 0.9829 - val_loss: 0.0812 - val_accuracy: 0.9766\n",
      "Epoch 18/30\n",
      "1719/1719 [==============================] - 4s 2ms/step - loss: 0.0589 - accuracy: 0.9840 - val_loss: 0.0787 - val_accuracy: 0.9772\n",
      "Epoch 19/30\n",
      "1719/1719 [==============================] - 4s 2ms/step - loss: 0.0554 - accuracy: 0.9849 - val_loss: 0.0793 - val_accuracy: 0.9764\n",
      "Epoch 20/30\n",
      "1719/1719 [==============================] - 4s 2ms/step - loss: 0.0517 - accuracy: 0.9861 - val_loss: 0.0763 - val_accuracy: 0.9752\n",
      "Epoch 21/30\n",
      "1719/1719 [==============================] - 4s 2ms/step - loss: 0.0487 - accuracy: 0.9870 - val_loss: 0.0737 - val_accuracy: 0.9782\n",
      "Epoch 22/30\n",
      "1719/1719 [==============================] - 4s 2ms/step - loss: 0.0459 - accuracy: 0.9878 - val_loss: 0.0757 - val_accuracy: 0.9762\n",
      "Epoch 23/30\n",
      "1719/1719 [==============================] - 4s 2ms/step - loss: 0.0431 - accuracy: 0.9888 - val_loss: 0.0757 - val_accuracy: 0.9764\n",
      "Epoch 24/30\n",
      "1719/1719 [==============================] - 4s 2ms/step - loss: 0.0405 - accuracy: 0.9896 - val_loss: 0.0726 - val_accuracy: 0.9772\n",
      "Epoch 25/30\n",
      "1719/1719 [==============================] - 4s 2ms/step - loss: 0.0383 - accuracy: 0.9901 - val_loss: 0.0688 - val_accuracy: 0.9782\n",
      "Epoch 26/30\n",
      "1719/1719 [==============================] - 4s 2ms/step - loss: 0.0361 - accuracy: 0.9910 - val_loss: 0.0698 - val_accuracy: 0.9790\n",
      "Epoch 27/30\n",
      "1719/1719 [==============================] - 4s 2ms/step - loss: 0.0340 - accuracy: 0.9915 - val_loss: 0.0683 - val_accuracy: 0.9788\n",
      "Epoch 28/30\n",
      "1719/1719 [==============================] - 4s 2ms/step - loss: 0.0321 - accuracy: 0.9924 - val_loss: 0.0679 - val_accuracy: 0.9792\n",
      "Epoch 29/30\n",
      "1719/1719 [==============================] - 4s 2ms/step - loss: 0.0303 - accuracy: 0.9932 - val_loss: 0.0678 - val_accuracy: 0.9790\n",
      "Epoch 30/30\n",
      "1719/1719 [==============================] - 4s 2ms/step - loss: 0.0287 - accuracy: 0.9937 - val_loss: 0.0656 - val_accuracy: 0.9804\n"
     ]
    }
   ],
   "source": [
    "# Orginal train\n",
    "\n",
    "EPOCHS = 30\n",
    "VALIDATION_SET = (X_valid, y_valid)\n",
    "\n",
    "history = model_clf.fit(X_train, y_train, epochs=EPOCHS,\n",
    "                    validation_data=VALIDATION_SET, batch_size=32, callbacks=[tb_cb, early_stopping_cb,checkpointing_cb] )\n"
   ]
  },
  {
   "cell_type": "code",
   "execution_count": 33,
   "metadata": {
    "colab": {
     "base_uri": "https://localhost:8080/"
    },
    "id": "_Kr5K5DO_8mj",
    "outputId": "55ae815d-0c5c-4b01-bd75-718a709f6478"
   },
   "outputs": [
    {
     "name": "stdout",
     "output_type": "stream",
     "text": [
      "Epoch 1/30\n",
      "1719/1719 [==============================] - 4s 2ms/step - loss: 0.0269 - accuracy: 0.9942 - val_loss: 0.0683 - val_accuracy: 0.9776\n",
      "Epoch 2/30\n",
      "1719/1719 [==============================] - 4s 2ms/step - loss: 0.0256 - accuracy: 0.9945 - val_loss: 0.0666 - val_accuracy: 0.9788\n",
      "Epoch 3/30\n",
      "1719/1719 [==============================] - 4s 2ms/step - loss: 0.0241 - accuracy: 0.9950 - val_loss: 0.0655 - val_accuracy: 0.9800\n",
      "Epoch 4/30\n",
      "1719/1719 [==============================] - 4s 2ms/step - loss: 0.0230 - accuracy: 0.9954 - val_loss: 0.0667 - val_accuracy: 0.9808\n",
      "Epoch 5/30\n",
      "1719/1719 [==============================] - 4s 2ms/step - loss: 0.0217 - accuracy: 0.9960 - val_loss: 0.0644 - val_accuracy: 0.9800\n",
      "Epoch 6/30\n",
      "1719/1719 [==============================] - 4s 2ms/step - loss: 0.0205 - accuracy: 0.9963 - val_loss: 0.0652 - val_accuracy: 0.9794\n",
      "Epoch 7/30\n",
      "1719/1719 [==============================] - 4s 2ms/step - loss: 0.0195 - accuracy: 0.9967 - val_loss: 0.0641 - val_accuracy: 0.9800\n",
      "Epoch 8/30\n",
      "1719/1719 [==============================] - 4s 2ms/step - loss: 0.0184 - accuracy: 0.9969 - val_loss: 0.0648 - val_accuracy: 0.9802\n",
      "Epoch 9/30\n",
      "1719/1719 [==============================] - 4s 2ms/step - loss: 0.0175 - accuracy: 0.9974 - val_loss: 0.0649 - val_accuracy: 0.9804\n",
      "Epoch 10/30\n",
      "1719/1719 [==============================] - 4s 2ms/step - loss: 0.0166 - accuracy: 0.9975 - val_loss: 0.0648 - val_accuracy: 0.9788\n",
      "Epoch 11/30\n",
      "1719/1719 [==============================] - 4s 2ms/step - loss: 0.0158 - accuracy: 0.9977 - val_loss: 0.0640 - val_accuracy: 0.9812\n",
      "Epoch 12/30\n",
      "1719/1719 [==============================] - 4s 2ms/step - loss: 0.0149 - accuracy: 0.9979 - val_loss: 0.0632 - val_accuracy: 0.9814\n",
      "Epoch 13/30\n",
      "1719/1719 [==============================] - 4s 2ms/step - loss: 0.0143 - accuracy: 0.9980 - val_loss: 0.0637 - val_accuracy: 0.9804\n",
      "Epoch 14/30\n",
      "1719/1719 [==============================] - 4s 2ms/step - loss: 0.0135 - accuracy: 0.9984 - val_loss: 0.0641 - val_accuracy: 0.9810\n",
      "Epoch 15/30\n",
      "1719/1719 [==============================] - 4s 2ms/step - loss: 0.0129 - accuracy: 0.9985 - val_loss: 0.0640 - val_accuracy: 0.9800\n",
      "Epoch 16/30\n",
      "1719/1719 [==============================] - 4s 2ms/step - loss: 0.0123 - accuracy: 0.9987 - val_loss: 0.0630 - val_accuracy: 0.9806\n",
      "Epoch 17/30\n",
      "1719/1719 [==============================] - 4s 2ms/step - loss: 0.0118 - accuracy: 0.9986 - val_loss: 0.0649 - val_accuracy: 0.9806\n",
      "Epoch 18/30\n",
      "1719/1719 [==============================] - 4s 2ms/step - loss: 0.0111 - accuracy: 0.9988 - val_loss: 0.0639 - val_accuracy: 0.9810\n",
      "Epoch 19/30\n",
      "1719/1719 [==============================] - 4s 2ms/step - loss: 0.0106 - accuracy: 0.9989 - val_loss: 0.0640 - val_accuracy: 0.9808\n",
      "Epoch 20/30\n",
      "1719/1719 [==============================] - 4s 2ms/step - loss: 0.0102 - accuracy: 0.9990 - val_loss: 0.0649 - val_accuracy: 0.9800\n",
      "Epoch 21/30\n",
      "1719/1719 [==============================] - 4s 2ms/step - loss: 0.0096 - accuracy: 0.9991 - val_loss: 0.0646 - val_accuracy: 0.9814\n"
     ]
    }
   ],
   "source": [
    "# Checkpoint training\n",
    "\n",
    "#loading Checkpoint model\n",
    "ckpt_model = tf.keras.models.load_model(CKPT_path)\n",
    "\n",
    "history = ckpt_model.fit(X_train, y_train, epochs=EPOCHS,\n",
    "                    validation_data=VALIDATION_SET, batch_size=32, callbacks=[tb_cb, early_stopping_cb,checkpointing_cb] )\n"
   ]
  },
  {
   "cell_type": "markdown",
   "metadata": {
    "id": "dVoxekJXfAe1"
   },
   "source": [
    "# Saving the Model"
   ]
  },
  {
   "cell_type": "code",
   "execution_count": 34,
   "metadata": {
    "id": "hIWlIIu1R8Yk"
   },
   "outputs": [],
   "source": [
    "import time\n",
    "import os\n",
    "\n",
    "def save_model_path(MODEL_dir = \"TRAINED_MODEL\"):\n",
    "  os.makedirs(MODEL_dir, exist_ok= True)\n",
    "  fileName = time.strftime(\"Model_%Y_%m_%d_%H_%M_%S_.h5\")\n",
    "  model_path = os.path.join(MODEL_dir, fileName)\n",
    "  print(f\"Model {fileName} will be saved at {model_path}\")\n",
    "  return model_path"
   ]
  },
  {
   "cell_type": "code",
   "execution_count": 35,
   "metadata": {
    "colab": {
     "base_uri": "https://localhost:8080/",
     "height": 54
    },
    "id": "hCxtISUYiSjw",
    "outputId": "03a50665-cfaf-4ad3-c035-38f8350334e8"
   },
   "outputs": [
    {
     "name": "stdout",
     "output_type": "stream",
     "text": [
      "Model Model_2023_04_27_13_11_03_.h5 will be saved at TRAINED_MODEL\\Model_2023_04_27_13_11_03_.h5\n"
     ]
    },
    {
     "data": {
      "text/plain": [
       "'TRAINED_MODEL\\\\Model_2023_04_27_13_11_03_.h5'"
      ]
     },
     "execution_count": 35,
     "metadata": {},
     "output_type": "execute_result"
    }
   ],
   "source": [
    "UNIQUE_PATH = save_model_path()\n",
    "UNIQUE_PATH "
   ]
  },
  {
   "cell_type": "code",
   "execution_count": 36,
   "metadata": {
    "id": "GQ5Fa198iTD4"
   },
   "outputs": [],
   "source": [
    "tf.keras.models.save_model(model_clf, UNIQUE_PATH)"
   ]
  },
  {
   "cell_type": "code",
   "execution_count": 37,
   "metadata": {
    "colab": {
     "base_uri": "https://localhost:8080/"
    },
    "id": "RlVMME_RlB3b",
    "outputId": "0767effd-d8f2-44d7-bdf8-2518d6c36045"
   },
   "outputs": [
    {
     "data": {
      "text/plain": [
       "{'verbose': 1, 'epochs': 30, 'steps': 1719}"
      ]
     },
     "execution_count": 37,
     "metadata": {},
     "output_type": "execute_result"
    }
   ],
   "source": [
    "history.params"
   ]
  },
  {
   "cell_type": "code",
   "execution_count": 38,
   "metadata": {
    "id": "5EzMStC9liCR"
   },
   "outputs": [],
   "source": [
    "# history.history"
   ]
  },
  {
   "cell_type": "code",
   "execution_count": 39,
   "metadata": {
    "colab": {
     "base_uri": "https://localhost:8080/",
     "height": 675
    },
    "id": "0O01BfyAl9pC",
    "outputId": "9f848efd-b059-4826-de34-b1e77a4d6247"
   },
   "outputs": [
    {
     "data": {
      "text/html": [
       "<div>\n",
       "<style scoped>\n",
       "    .dataframe tbody tr th:only-of-type {\n",
       "        vertical-align: middle;\n",
       "    }\n",
       "\n",
       "    .dataframe tbody tr th {\n",
       "        vertical-align: top;\n",
       "    }\n",
       "\n",
       "    .dataframe thead th {\n",
       "        text-align: right;\n",
       "    }\n",
       "</style>\n",
       "<table border=\"1\" class=\"dataframe\">\n",
       "  <thead>\n",
       "    <tr style=\"text-align: right;\">\n",
       "      <th></th>\n",
       "      <th>loss</th>\n",
       "      <th>accuracy</th>\n",
       "      <th>val_loss</th>\n",
       "      <th>val_accuracy</th>\n",
       "    </tr>\n",
       "  </thead>\n",
       "  <tbody>\n",
       "    <tr>\n",
       "      <th>0</th>\n",
       "      <td>0.026895</td>\n",
       "      <td>0.994182</td>\n",
       "      <td>0.068296</td>\n",
       "      <td>0.9776</td>\n",
       "    </tr>\n",
       "    <tr>\n",
       "      <th>1</th>\n",
       "      <td>0.025626</td>\n",
       "      <td>0.994473</td>\n",
       "      <td>0.066645</td>\n",
       "      <td>0.9788</td>\n",
       "    </tr>\n",
       "    <tr>\n",
       "      <th>2</th>\n",
       "      <td>0.024076</td>\n",
       "      <td>0.994982</td>\n",
       "      <td>0.065469</td>\n",
       "      <td>0.9800</td>\n",
       "    </tr>\n",
       "    <tr>\n",
       "      <th>3</th>\n",
       "      <td>0.023027</td>\n",
       "      <td>0.995436</td>\n",
       "      <td>0.066707</td>\n",
       "      <td>0.9808</td>\n",
       "    </tr>\n",
       "    <tr>\n",
       "      <th>4</th>\n",
       "      <td>0.021657</td>\n",
       "      <td>0.995982</td>\n",
       "      <td>0.064434</td>\n",
       "      <td>0.9800</td>\n",
       "    </tr>\n",
       "    <tr>\n",
       "      <th>5</th>\n",
       "      <td>0.020541</td>\n",
       "      <td>0.996255</td>\n",
       "      <td>0.065240</td>\n",
       "      <td>0.9794</td>\n",
       "    </tr>\n",
       "    <tr>\n",
       "      <th>6</th>\n",
       "      <td>0.019462</td>\n",
       "      <td>0.996655</td>\n",
       "      <td>0.064137</td>\n",
       "      <td>0.9800</td>\n",
       "    </tr>\n",
       "    <tr>\n",
       "      <th>7</th>\n",
       "      <td>0.018361</td>\n",
       "      <td>0.996909</td>\n",
       "      <td>0.064836</td>\n",
       "      <td>0.9802</td>\n",
       "    </tr>\n",
       "    <tr>\n",
       "      <th>8</th>\n",
       "      <td>0.017516</td>\n",
       "      <td>0.997364</td>\n",
       "      <td>0.064905</td>\n",
       "      <td>0.9804</td>\n",
       "    </tr>\n",
       "    <tr>\n",
       "      <th>9</th>\n",
       "      <td>0.016615</td>\n",
       "      <td>0.997455</td>\n",
       "      <td>0.064765</td>\n",
       "      <td>0.9788</td>\n",
       "    </tr>\n",
       "    <tr>\n",
       "      <th>10</th>\n",
       "      <td>0.015796</td>\n",
       "      <td>0.997709</td>\n",
       "      <td>0.064006</td>\n",
       "      <td>0.9812</td>\n",
       "    </tr>\n",
       "    <tr>\n",
       "      <th>11</th>\n",
       "      <td>0.014931</td>\n",
       "      <td>0.997873</td>\n",
       "      <td>0.063194</td>\n",
       "      <td>0.9814</td>\n",
       "    </tr>\n",
       "    <tr>\n",
       "      <th>12</th>\n",
       "      <td>0.014268</td>\n",
       "      <td>0.998018</td>\n",
       "      <td>0.063710</td>\n",
       "      <td>0.9804</td>\n",
       "    </tr>\n",
       "    <tr>\n",
       "      <th>13</th>\n",
       "      <td>0.013476</td>\n",
       "      <td>0.998400</td>\n",
       "      <td>0.064146</td>\n",
       "      <td>0.9810</td>\n",
       "    </tr>\n",
       "    <tr>\n",
       "      <th>14</th>\n",
       "      <td>0.012925</td>\n",
       "      <td>0.998491</td>\n",
       "      <td>0.063976</td>\n",
       "      <td>0.9800</td>\n",
       "    </tr>\n",
       "    <tr>\n",
       "      <th>15</th>\n",
       "      <td>0.012268</td>\n",
       "      <td>0.998655</td>\n",
       "      <td>0.062993</td>\n",
       "      <td>0.9806</td>\n",
       "    </tr>\n",
       "    <tr>\n",
       "      <th>16</th>\n",
       "      <td>0.011755</td>\n",
       "      <td>0.998618</td>\n",
       "      <td>0.064946</td>\n",
       "      <td>0.9806</td>\n",
       "    </tr>\n",
       "    <tr>\n",
       "      <th>17</th>\n",
       "      <td>0.011062</td>\n",
       "      <td>0.998782</td>\n",
       "      <td>0.063901</td>\n",
       "      <td>0.9810</td>\n",
       "    </tr>\n",
       "    <tr>\n",
       "      <th>18</th>\n",
       "      <td>0.010634</td>\n",
       "      <td>0.998873</td>\n",
       "      <td>0.064027</td>\n",
       "      <td>0.9808</td>\n",
       "    </tr>\n",
       "    <tr>\n",
       "      <th>19</th>\n",
       "      <td>0.010155</td>\n",
       "      <td>0.999036</td>\n",
       "      <td>0.064906</td>\n",
       "      <td>0.9800</td>\n",
       "    </tr>\n",
       "    <tr>\n",
       "      <th>20</th>\n",
       "      <td>0.009631</td>\n",
       "      <td>0.999091</td>\n",
       "      <td>0.064583</td>\n",
       "      <td>0.9814</td>\n",
       "    </tr>\n",
       "  </tbody>\n",
       "</table>\n",
       "</div>"
      ],
      "text/plain": [
       "        loss  accuracy  val_loss  val_accuracy\n",
       "0   0.026895  0.994182  0.068296        0.9776\n",
       "1   0.025626  0.994473  0.066645        0.9788\n",
       "2   0.024076  0.994982  0.065469        0.9800\n",
       "3   0.023027  0.995436  0.066707        0.9808\n",
       "4   0.021657  0.995982  0.064434        0.9800\n",
       "5   0.020541  0.996255  0.065240        0.9794\n",
       "6   0.019462  0.996655  0.064137        0.9800\n",
       "7   0.018361  0.996909  0.064836        0.9802\n",
       "8   0.017516  0.997364  0.064905        0.9804\n",
       "9   0.016615  0.997455  0.064765        0.9788\n",
       "10  0.015796  0.997709  0.064006        0.9812\n",
       "11  0.014931  0.997873  0.063194        0.9814\n",
       "12  0.014268  0.998018  0.063710        0.9804\n",
       "13  0.013476  0.998400  0.064146        0.9810\n",
       "14  0.012925  0.998491  0.063976        0.9800\n",
       "15  0.012268  0.998655  0.062993        0.9806\n",
       "16  0.011755  0.998618  0.064946        0.9806\n",
       "17  0.011062  0.998782  0.063901        0.9810\n",
       "18  0.010634  0.998873  0.064027        0.9808\n",
       "19  0.010155  0.999036  0.064906        0.9800\n",
       "20  0.009631  0.999091  0.064583        0.9814"
      ]
     },
     "execution_count": 39,
     "metadata": {},
     "output_type": "execute_result"
    }
   ],
   "source": [
    "pd.DataFrame(history.history)"
   ]
  },
  {
   "cell_type": "code",
   "execution_count": 40,
   "metadata": {
    "colab": {
     "base_uri": "https://localhost:8080/",
     "height": 283
    },
    "id": "vfk5V7zjmTD8",
    "outputId": "6c586bfb-67a1-4866-dae8-ba75db43f439"
   },
   "outputs": [
    {
     "data": {
      "text/plain": [
       "<AxesSubplot:>"
      ]
     },
     "execution_count": 40,
     "metadata": {},
     "output_type": "execute_result"
    },
    {
     "data": {
      "image/png": "[encoded data removed]",
      "text/plain": [
       "<Figure size 640x480 with 1 Axes>"
      ]
     },
     "metadata": {},
     "output_type": "display_data"
    }
   ],
   "source": [
    "pd.DataFrame(history.history).plot()"
   ]
  },
  {
   "cell_type": "code",
   "execution_count": 41,
   "metadata": {
    "colab": {
     "base_uri": "https://localhost:8080/"
    },
    "id": "7qbllFvVm8m3",
    "outputId": "ccdb8923-86f3-41c1-8cea-97b7f7aeb14e"
   },
   "outputs": [
    {
     "name": "stdout",
     "output_type": "stream",
     "text": [
      "313/313 [==============================] - 1s 3ms/step - loss: 0.0676 - accuracy: 0.9799\n"
     ]
    },
    {
     "data": {
      "text/plain": [
       "[0.06759898364543915, 0.9799000024795532]"
      ]
     },
     "execution_count": 41,
     "metadata": {},
     "output_type": "execute_result"
    }
   ],
   "source": [
    "model_clf.evaluate(X_test, y_test)"
   ]
  },
  {
   "cell_type": "code",
   "execution_count": 42,
   "metadata": {
    "id": "nUx_bNcwnbVq"
   },
   "outputs": [],
   "source": [
    "x_new = X_test[:3]\n",
    "# x_new"
   ]
  },
  {
   "cell_type": "code",
   "execution_count": 43,
   "metadata": {
    "colab": {
     "base_uri": "https://localhost:8080/"
    },
    "id": "Y3DQr68_ngCx",
    "outputId": "578aa2a4-f724-4691-a765-ce1cf6804048"
   },
   "outputs": [
    {
     "data": {
      "text/plain": [
       "array([7, 2, 1], dtype=uint8)"
      ]
     },
     "execution_count": 43,
     "metadata": {},
     "output_type": "execute_result"
    }
   ],
   "source": [
    "actual = y_test[:3]\n",
    "actual"
   ]
  },
  {
   "cell_type": "code",
   "execution_count": 44,
   "metadata": {
    "colab": {
     "base_uri": "https://localhost:8080/"
    },
    "id": "ngtEm9SyowUy",
    "outputId": "3e61f271-d6e9-4842-b529-729875e2ab4a"
   },
   "outputs": [
    {
     "name": "stdout",
     "output_type": "stream",
     "text": [
      "1/1 [==============================] - 0s 66ms/step\n"
     ]
    },
    {
     "data": {
      "text/plain": [
       "array([[0.   , 0.   , 0.001, 0.001, 0.   , 0.   , 0.   , 0.998, 0.   ,\n",
       "        0.   ],\n",
       "       [0.   , 0.   , 1.   , 0.   , 0.   , 0.   , 0.   , 0.   , 0.   ,\n",
       "        0.   ],\n",
       "       [0.   , 0.997, 0.001, 0.   , 0.   , 0.   , 0.   , 0.001, 0.001,\n",
       "        0.   ]], dtype=float32)"
      ]
     },
     "execution_count": 44,
     "metadata": {},
     "output_type": "execute_result"
    }
   ],
   "source": [
    "y_prob = model_clf.predict(x_new)\n",
    "y_prob.round(3)"
   ]
  },
  {
   "cell_type": "code",
   "execution_count": 45,
   "metadata": {
    "colab": {
     "base_uri": "https://localhost:8080/"
    },
    "id": "KnDEiC8XpAVg",
    "outputId": "3973d19a-f5ca-4e9c-f911-30dc5cfebd1d"
   },
   "outputs": [
    {
     "data": {
      "text/plain": [
       "array([[2.3735572e-06, 2.3417924e-07, 8.1197411e-04, 1.0350186e-03,\n",
       "        1.8226448e-08, 1.5356422e-06, 4.7310371e-11, 9.9806446e-01,\n",
       "        4.0615294e-05, 4.3738222e-05],\n",
       "       [6.5062073e-07, 2.6134562e-04, 9.9962187e-01, 9.2294154e-05,\n",
       "        2.9138027e-12, 9.7519512e-07, 3.1162676e-06, 9.5483439e-12,\n",
       "        1.9608289e-05, 1.5021294e-13],\n",
       "       [6.7906612e-06, 9.9703962e-01, 5.0645944e-04, 8.1385690e-05,\n",
       "        2.9471744e-04, 4.4118893e-05, 9.3429902e-05, 8.6818082e-04,\n",
       "        1.0154753e-03, 4.9881772e-05]], dtype=float32)"
      ]
     },
     "execution_count": 45,
     "metadata": {},
     "output_type": "execute_result"
    }
   ],
   "source": [
    "y_prob"
   ]
  },
  {
   "cell_type": "code",
   "execution_count": 46,
   "metadata": {
    "id": "8nRnheigpCCN"
   },
   "outputs": [],
   "source": [
    "y_pred = np.argmax(y_prob, axis = -1)"
   ]
  },
  {
   "cell_type": "code",
   "execution_count": 47,
   "metadata": {
    "colab": {
     "base_uri": "https://localhost:8080/"
    },
    "id": "V1BwlnM0qCDi",
    "outputId": "031b436d-b9a9-4480-d943-db9e6c6034ed"
   },
   "outputs": [
    {
     "data": {
      "text/plain": [
       "array([7, 2, 1], dtype=int64)"
      ]
     },
     "execution_count": 47,
     "metadata": {},
     "output_type": "execute_result"
    }
   ],
   "source": [
    "y_pred"
   ]
  },
  {
   "cell_type": "code",
   "execution_count": 48,
   "metadata": {
    "colab": {
     "base_uri": "https://localhost:8080/"
    },
    "id": "zIDKPxrTqDQd",
    "outputId": "db30fe19-2223-4e64-c118-736a79f6df12"
   },
   "outputs": [
    {
     "data": {
      "text/plain": [
       "array([7, 2, 1], dtype=uint8)"
      ]
     },
     "execution_count": 48,
     "metadata": {},
     "output_type": "execute_result"
    }
   ],
   "source": [
    "actual"
   ]
  },
  {
   "cell_type": "code",
   "execution_count": 50,
   "metadata": {
    "colab": {
     "base_uri": "https://localhost:8080/",
     "height": 813
    },
    "id": "lEszfSdgq4bb",
    "outputId": "b999f31f-96d1-4c39-9c27-7331ea6884e4"
   },
   "outputs": [
    {
     "data": {
      "image/png": "[encoded data removed]",
      "text/plain": [
       "<Figure size 640x480 with 1 Axes>"
      ]
     },
     "metadata": {},
     "output_type": "display_data"
    },
    {
     "name": "stdout",
     "output_type": "stream",
     "text": [
      "######################\n"
     ]
    },
    {
     "data": {
      "image/png": "[encoded data removed]",
      "text/plain": [
       "<Figure size 640x480 with 1 Axes>"
      ]
     },
     "metadata": {},
     "output_type": "display_data"
    },
    {
     "name": "stdout",
     "output_type": "stream",
     "text": [
      "######################\n"
     ]
    },
    {
     "data": {
      "image/png": "[encoded data removed]",
      "text/plain": [
       "<Figure size 640x480 with 1 Axes>"
      ]
     },
     "metadata": {},
     "output_type": "display_data"
    },
    {
     "name": "stdout",
     "output_type": "stream",
     "text": [
      "######################\n"
     ]
    }
   ],
   "source": [
    "# plot\n",
    "for data, pred, actual_data in zip(x_new, y_pred, actual):\n",
    "  plt.imshow(data, cmap=\"binary\")\n",
    "  plt.title(f\"Predicted {pred} and Actual {actual_data}\")\n",
    "  plt.axis(\"off\")\n",
    "  plt.show() \n",
    "  print(\"######################\")"
   ]
  }
 ],
 "metadata": {
  "accelerator": "GPU",
  "colab": {
   "provenance": []
  },
  "kernelspec": {
   "display_name": "Python 3 (ipykernel)",
   "language": "python",
   "name": "python3"
  },
  "language_info": {
   "codemirror_mode": {
    "name": "ipython",
    "version": 3
   },
   "file_extension": ".py",
   "mimetype": "text/x-python",
   "name": "python",
   "nbconvert_exporter": "python",
   "pygments_lexer": "ipython3",
   "version": "3.11.4"
  }
 },
 "nbformat": 4,
 "nbformat_minor": 1
}
